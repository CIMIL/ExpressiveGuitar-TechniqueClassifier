{
  "cells": [
    {
      "cell_type": "markdown",
      "metadata": {
        "id": "cAJRnwSBQNbQ"
      },
      "source": [
        "# Expressive Guitar Technique classifier\n",
        "Ph.D. research project of [Domenico Stefani](work.domenicostefani.com)  \n",
        "This notebook loads a dataset of feature vectors extracted from **pitched** and **percussive** sounds recorded with many acoustic guitars.\n",
        "The techniques/classes recorded are:  \n",
        "\n",
        "0.    **Kick**      (Palm on lower body)\n",
        "1.    **Snare 1**   (All fingers on lower side)\n",
        "2.    **Tom**       (Thumb on higher body)\n",
        "3.    **Snare 2**   (Fingers on the muted strings, over the end\n",
        "of the fingerboard)\n",
        "___\n",
        "4.    **Natural Harmonics** (Stop strings from playing the dominant frequency, letting harmonics ring)\n",
        "5.    **Palm Mute** (Muting partially the strings with the palm\n",
        "of the pick hand)\n",
        "6.    **Pick Near Bridge** (Playing toward the bridge/saddle)\n",
        "7.    **Pick Over the Soundhole** (Playing over the sound hole)\n"
      ]
    },
    {
      "cell_type": "markdown",
      "metadata": {
        "id": "4a2ha_JDqV9I"
      },
      "source": [
        "## Import modules and mount drive folder"
      ]
    },
    {
      "cell_type": "code",
      "execution_count": 16,
      "metadata": {
        "id": "yPrPhmjHk-kc"
      },
      "outputs": [],
      "source": [
        "# Choose ClassificationTask task\n",
        "from enum import Enum\n",
        "class ClassificationTask(Enum):\n",
        "    FULL_8_CLASS_PROBLEM =          (1,'full')\n",
        "    BINARY_PERCUSSIVE_PITCHED =     (2,'binary')\n",
        "    PERCUSSIVE_4_ONLY =             (3,'perc')\n",
        "    PITCHED_4_ONLY =                (4,'pitch')\n",
        "    PERCUSSIVE_PLUS_PITCHED_CLASS = (5,'perc+pitch')\n",
        "\n",
        "classification_task = ClassificationTask.FULL_8_CLASS_PROBLEM"
      ]
    },
    {
      "cell_type": "code",
      "execution_count": 17,
      "metadata": {
        "id": "VuprRjSbkuh3"
      },
      "outputs": [],
      "source": [
        "# Install module for the ReliefF feature selection\n",
        "# !pip install skrebate\n",
        "# !pip install tensorboard\n",
        "# !pip3 install pickle5\n",
        "# !pip3 install tensorflow==2.4.1\n",
        "# !pip3 install tensorboard"
      ]
    },
    {
      "cell_type": "code",
      "execution_count": 18,
      "metadata": {
        "id": "dw8otQ7AQMaV"
      },
      "outputs": [
        {
          "name": "stdout",
          "output_type": "stream",
          "text": [
            "The tensorboard extension is already loaded. To reload it, use:\n",
            "  %reload_ext tensorboard\n",
            "Tensorflow version: 2.4.1\n",
            "Imblearn version: 0.6.2\n",
            "Not running on CoLab\n"
          ]
        }
      ],
      "source": [
        "REQUIRE_GPU = False\n",
        "DO_SAVE_TENSORBOARD_LOGS = False \n",
        "DO_SAVE_FOLD_MODELS = False \n",
        "CUSTOM_PLAYER_K_FOLD = True         # Very important, this ditches the k-fold stratified random shuffle, and creates as many splits as the guitar players, separating natural groups\n",
        "DROP_EXTRA_PERCUSSIVE_SOUNDS = True # If true, drop the data from files that have 'extra' in the filename, which otherwise make the dataset unbalanced\n",
        "\n",
        "\n",
        "USE_TENSORBOARD = True\n",
        "\n",
        "USE_AUGMENTED_DATA = True\n",
        "# USE_AUGMENTED_DATA = False\n",
        "DROP_EXTRA_PERCUSSIVE_SOUNDS_FROMAUG = False\n",
        "\n",
        "# Load the TensorBoard notebook extension\n",
        "if USE_TENSORBOARD:\n",
        "    %load_ext tensorboard\n",
        "\n",
        "import os\n",
        "os.environ['TF_CPP_MIN_LOG_LEVEL'] = '3' \n",
        "from sys import executable as sys_executable\n",
        "from sys import argv as sys_argv\n",
        "import pandas as pd\n",
        "import numpy as np\n",
        "import tensorflow as tf\n",
        "from time import strftime, time\n",
        "import pickle\n",
        "from sklearn.model_selection import train_test_split\n",
        "from sklearn.model_selection import StratifiedKFold\n",
        "from bz2 import BZ2File # To open compressed data\n",
        "import re\n",
        "import shutil\n",
        "import imblearn\n",
        "from sklearn.metrics import confusion_matrix as sk_conf_matrix\n",
        "from sklearn.metrics import classification_report as sk_class_report\n",
        "\n",
        "print(\"Tensorflow version: \" + tf.version.VERSION)\n",
        "print('Imblearn version:',imblearn.__version__)\n",
        "\n",
        "global_random_state = 42\n",
        "np.random.seed(global_random_state)\n",
        "tf.random.set_seed(global_random_state)\n",
        "\n",
        "COLAB = 'google.colab' in str(get_ipython())\n",
        "\n",
        "if COLAB:\n",
        "    print('Running on CoLab')\n",
        "    #Connect and mount the drive folder that contains the train dataset and the output folder\n",
        "    from google.colab import drive\n",
        "    drive.mount('/content/gdrive', force_remount=False)\n",
        "\n",
        "    HOMEBASE = os.path.join('/content','gdrive','MyDrive','dottorato','Publications','02-IEEE-RTEmbeddedTimbreClassification(submitted)','Classifier')\n",
        "    THISDIR = \"/content/\"\n",
        "else:\n",
        "    print('Not running on CoLab')\n",
        "    HOMEBASE = \".\"\n",
        "    THISDIR = \"./\"\n",
        "DATAFOLDER = os.path.join(HOMEBASE,\"data/phase3\")\n",
        "MODELFOLDER = os.path.join(HOMEBASE,\"output\")\n",
        "\n",
        "RELIEF_CACHE_FILEPATH = os.path.join(DATAFOLDER,'relief_cache.pickle')"
      ]
    },
    {
      "cell_type": "code",
      "execution_count": 19,
      "metadata": {
        "id": "sY_34JvX6uFT"
      },
      "outputs": [],
      "source": [
        "def is_notebook() -> bool:\n",
        "    try:\n",
        "        shell = get_ipython().__class__.__name__\n",
        "        if shell == 'ZMQInteractiveShell':\n",
        "            return True   # Jupyter notebook or qtconsole\n",
        "        elif shell == 'TerminalInteractiveShell':\n",
        "            return False  # Terminal running IPython\n",
        "        else:\n",
        "            return False  # Other type (?)\n",
        "    except NameError:\n",
        "        return False      # Probably standard Python interpreter"
      ]
    },
    {
      "cell_type": "markdown",
      "metadata": {
        "id": "o3ND_A4d6uFT"
      },
      "source": [
        "## Parse Command Line arguments\n",
        "\n",
        "*_Important_*: If you are running this from a jupyter Notebook, change the run parameters at the end of the next cell"
      ]
    },
    {
      "cell_type": "code",
      "execution_count": 20,
      "metadata": {
        "id": "dVHOAmQ-6uFU"
      },
      "outputs": [],
      "source": [
        "args = None\n",
        "if not is_notebook() and not COLAB:\n",
        "    import argparse\n",
        "    parser = argparse.ArgumentParser(description='Train the expressive guitar technique classifier.')\n",
        "\n",
        "    def featnum_type(x):\n",
        "        (MIN,MAX) = (1,495) \n",
        "        x = int(x)\n",
        "        if x < MIN or x > MAX:\n",
        "            raise argparse.ArgumentTypeError(\"Feature number must be between {} and {}\".format(MIN, MAX))\n",
        "        return x\n",
        "    def netdepth_type(x):\n",
        "        (MIN,MAX) = (1,20) \n",
        "        x = int(x)\n",
        "        if x < MIN or x > MAX:\n",
        "            raise argparse.ArgumentTypeError(\"Network depth must be between {} and {}\".format(MIN, MAX))\n",
        "        return x\n",
        "    def netwidth_type(x):\n",
        "        (MIN,MAX) = (1,2000) \n",
        "        x = int(x)\n",
        "        if x < MIN or x > MAX:\n",
        "            raise argparse.ArgumentTypeError(\"Network width must be between {} and {}\".format(MIN, MAX))\n",
        "        return x\n",
        "    def dropout_type(x):\n",
        "        (MIN,MAX) = (0,1) \n",
        "        x = float(x)\n",
        "        if x < MIN or x > MAX:\n",
        "            raise argparse.ArgumentTypeError(\"Dropout Rate must be between {} and {}\".format(MIN, MAX))\n",
        "        return x\n",
        "    def aggressiveness_type(x):\n",
        "        (MIN,MAX) = (0,1) \n",
        "        x = float(x)\n",
        "        if x < MIN or x > MAX:\n",
        "            raise argparse.ArgumentTypeError(\"Oversampling aggressiveness value must be between {} and {}\".format(MIN, MAX))\n",
        "        return x\n",
        "    def lr_type(x):\n",
        "        (MIN,MAX) = (0,1) \n",
        "        x = float(x)\n",
        "        if x < MIN or x > MAX:\n",
        "            raise argparse.ArgumentTypeError(\"Learning rate must be between {} and {}\".format(MIN, MAX))\n",
        "        return x\n",
        "    def batchsize_type(x):\n",
        "        (MIN,MAX) = (1,4096) \n",
        "        x = int(x)\n",
        "        if x < MIN or x > MAX:\n",
        "            raise argparse.ArgumentTypeError(\"Batchsize must be between {} and {}\".format(MIN, MAX))\n",
        "        return x\n",
        "    def epochs_type(x):\n",
        "        (MIN,MAX) = (1,10000) \n",
        "        x = int(x)\n",
        "        if x < MIN or x > MAX:\n",
        "            raise argparse.ArgumentTypeError(\"Batchsize must be between {} and {}\".format(MIN, MAX))\n",
        "        return x\n",
        "    def kfold_type(x):\n",
        "        (MIN,MAX) = (1,20) \n",
        "        x = int(x)\n",
        "        if x < MIN or x > MAX:\n",
        "            raise argparse.ArgumentTypeError(\"Batchsize must be between {} and {}\".format(MIN, MAX))\n",
        "        return x\n",
        "    parser.add_argument('-f',  '--features',      default=80,     type=featnum_type,   help='Number of features to use for training [1-495] (default: 80)')\n",
        "    parser.add_argument('-d',  '--net-depth',     default=3,      type=netdepth_type,  help='Number of layers in the FFNN [1-20] (default: 3)')\n",
        "    parser.add_argument('-w',  '--net-width',     default=100,    type=netwidth_type,  help='Number of layers in the FFNN [1-2000] (default: 100)')\n",
        "    parser.add_argument('-dr', '--dropout',       default=0.15,   type=dropout_type,   help='Dropout amount [0-1] (default: 0.15)')\n",
        "    parser.add_argument('-lr', '--learning-rate', default=0.0001, type=lr_type,        help='Learning rate [0-1] (default: 0.0001)')\n",
        "    parser.add_argument('-bs', '--batchsize',     default=256,    type=batchsize_type, help='Learning rate [1-4096] (default: 256)')\n",
        "    parser.add_argument('-e',  '--epochs',        default=1000,   type=epochs_type,    help='Learning rate [1-10000] (default: 1000)')\n",
        "    parser.add_argument('-k',  '--k-folds',       default=5,      type=kfold_type,     help='K of K-folds [1-20] (default: 5)')\n",
        "    parser.add_argument('-os', '--oversampling',  action='store_true', help='Perform oversampling')\n",
        "    parser.add_argument('-osagg', '--oversampling-aggressiveness',  default=0.2,   type=aggressiveness_type,   help='Oversampling aggressiveness [0-1] (default: 0.2)')\n",
        "\n",
        "    \n",
        "    parser.add_argument('-v', '--verbose',        action='store_true', help='increase output verbosity')\n",
        "    args = parser.parse_args()\n",
        "    args = vars(args)\n",
        "else:\n",
        "    \n",
        "    #-------------------------------------------------------------------------------------------------------------------------------------------------------------------#\n",
        "    \"\"\"                               +-----------------------------------------------------------------------------------------------+                                 #\n",
        "    #                                 |    CHANGE THE VALUES HERE IF RUNNING THE TRAINING FROM A JUPYTER NOTEBOOK (e.g., on Colab)    |                                 #\n",
        "    #                                 + ↓ ↓ ↓ ↓ ↓ ↓ ↓ ↓ ↓ ↓ ↓ ↓ ↓ ↓ ↓ ↓ ↓ ↓ ↓ ↓ ↓ ↓ ↓ ↓ ↓ ↓ ↓ ↓ ↓ ↓ ↓ ↓ ↓ ↓ ↓ ↓ ↓ ↓ ↓ ↓ ↓ ↓ ↓ ↓ ↓ ↓ ↓ +                                 #\n",
        "    \"\"\" #↓ ↓ ↓ ↓ ↓ ↓ ↓ ↓ ↓ ↓ ↓ ↓ ↓ ↓ ↓ ↓ ↓ ↓ ↓ ↓ ↓ ↓ ↓ ↓ ↓ ↓ ↓ ↓ ↓ ↓ ↓ ↓ ↓ ↓ ↓ ↓ ↓ ↓ ↓ ↓ ↓ ↓ ↓ ↓ ↓ ↓ ↓ ↓ ↓ ↓ ↓ ↓ ↓ ↓ ↓ ↓ ↓ ↓ ↓ ↓ ↓ ↓ ↓ ↓ ↓ ↓ ↓ ↓ ↓ ↓ ↓ ↓ ↓ ↓ ↓ ↓ ↓ ↓ ↓ ↓#\n",
        "    args = {'features':      30, \n",
        "            'net_depth':     1, \n",
        "            'net_width':     10, \n",
        "            'dropout':       0.15,\n",
        "            'learning_rate': 0.00001,\n",
        "            'batchsize':     1024,\n",
        "            'epochs':        10,\n",
        "            'k_folds':       5,\n",
        "            'oversampling':  True,\n",
        "            'oversampling_aggressiveness':  0.0,\n",
        "            'verbose':       False}\n",
        "    #↑ ↑ ↑ ↑ ↑ ↑ ↑ ↑ ↑ ↑ ↑ ↑ ↑ ↑ ↑ ↑ ↑ ↑ ↑ ↑ ↑ ↑ ↑ ↑ ↑ ↑ ↑ ↑ ↑ ↑ ↑ ↑ ↑ ↑ ↑ ↑ ↑ ↑ ↑ ↑ ↑ ↑ ↑ ↑ ↑ ↑ ↑ ↑ ↑ ↑ ↑ ↑ ↑ ↑ ↑ ↑ ↑ ↑ ↑ ↑ ↑ ↑ ↑ ↑ ↑ ↑ ↑ ↑ ↑ ↑ ↑ ↑ ↑ ↑ ↑ ↑ ↑ ↑ ↑ ↑ ↑ ↑#\n",
        "    \"\"\"                               + ↑ ↑ ↑ ↑ ↑ ↑ ↑ ↑ ↑ ↑ ↑ ↑ ↑ ↑ ↑ ↑ ↑ ↑ ↑ ↑ ↑ ↑ ↑ ↑ ↑ ↑ ↑ ↑ ↑ ↑ ↑ ↑ ↑ ↑ ↑ ↑ ↑ ↑ ↑ ↑ ↑ ↑ ↑ ↑ ↑ ↑ ↑ +                                 #\n",
        "    #                                 |    CHANGE THE VALUES HERE IF RUNNING THE TRAINING FROM A JUPYTER NOTEBOOK (e.g., on Colab)    |                                 #\n",
        "    #                                 +-----------------------------------------------------------------------------------------------+                                 #\n",
        "    \"\"\"#----------------------------------------------------------------------------------------------------------------------------------------------------------------#"
      ]
    },
    {
      "cell_type": "markdown",
      "metadata": {
        "id": "m7qyEuAk6uFV"
      },
      "source": [
        "## Enforce GPU usage"
      ]
    },
    {
      "cell_type": "code",
      "execution_count": 21,
      "metadata": {
        "id": "9BxHBUDQPXKS"
      },
      "outputs": [
        {
          "name": "stdout",
          "output_type": "stream",
          "text": [
            "[PhysicalDevice(name='/physical_device:GPU:0', device_type='GPU')]\n"
          ]
        }
      ],
      "source": [
        "# sess = tf.compat.v1.Session(config=tf.compat.v1.ConfigProto(log_device_placement=True))\n",
        "physical_devices = tf.config.list_physical_devices('GPU') \n",
        "\n",
        "for device in physical_devices:\n",
        "    tf.config.experimental.set_memory_growth(device, True)\n",
        "\n",
        "print(physical_devices)\n",
        "if REQUIRE_GPU:\n",
        "  assert len(tf.config.experimental.list_physical_devices('GPU')) >= 1\n"
      ]
    },
    {
      "cell_type": "markdown",
      "metadata": {
        "id": "d8ZMbpx2eM2G"
      },
      "source": [
        "## Check Real avaliable GRAM"
      ]
    },
    {
      "cell_type": "code",
      "execution_count": 22,
      "metadata": {
        "id": "8lSUK12K6uFW"
      },
      "outputs": [],
      "source": [
        "import subprocess\n",
        "import sys\n",
        "\n",
        "def pip_install(package):\n",
        "    subprocess.check_call([sys_executable, \"-m\", \"pip\", \"install\", package])"
      ]
    },
    {
      "cell_type": "code",
      "execution_count": 23,
      "metadata": {
        "id": "R_8hnGH7eL_T"
      },
      "outputs": [],
      "source": [
        "CHECK_GRAM = False\n",
        "\n",
        "if CHECK_GRAM:\n",
        "    # memory footprint support libraries/code\n",
        "    os.symlink('/opt/bin/nvidia-smi','/usr/bin/nvidia-smi')\n",
        "    pip_install('gputil')\n",
        "    pip_install('psutil')\n",
        "    pip_install('humanize')\n",
        "    import psutil\n",
        "    import humanize\n",
        "    import os\n",
        "    import GPUtil as GPU\n",
        "    GPUs = GPU.getGPUs()\n",
        "    # XXX: only one GPU on Colab and isn’t guaranteed\n",
        "    gpu = GPUs[0]\n",
        "    def printm():\n",
        "        process = psutil.Process(os.getpid())\n",
        "        print(\"Gen RAM Free: \" + humanize.naturalsize( psutil.virtual_memory().available ), \" | Proc size: \" + humanize.naturalsize( process.memory_info().rss))\n",
        "        print(\"GPU RAM Free: {0:.0f}MB | Used: {1:.0f}MB | Util {2:3.0f}% | Total {3:.0f}MB\".format(gpu.memoryFree, gpu.memoryUsed, gpu.memoryUtil*100, gpu.memoryTotal))\n",
        "    printm()"
      ]
    },
    {
      "cell_type": "markdown",
      "metadata": {
        "id": "S2hdmJnSsEOM"
      },
      "source": [
        "# Import Dataset"
      ]
    },
    {
      "cell_type": "code",
      "execution_count": 24,
      "metadata": {
        "id": "CozyQAQgznvK"
      },
      "outputs": [
        {
          "name": "stdout",
          "output_type": "stream",
          "text": [
            "Reading dataset from pickle...\n",
            "Successfully Loaded!\n",
            "It took 1.2s to load from regular pickle\n"
          ]
        }
      ],
      "source": [
        "LOAD_DATA_FROM = 'pickle'\n",
        "# LOAD_DATA_FROM = 'compressedpickle'\n",
        "\n",
        "if LOAD_DATA_FROM == 'compressedpickle':\n",
        "    print(\"Reading dataset from compressed pickle...\")\n",
        "    DATASET_PATH = os.path.join(DATAFOLDER,'20220929_115154_onlycorrectdetections.bz2')\n",
        "    startime = time()\n",
        "    ifile = BZ2File(DATASET_PATH,'rb')\n",
        "    featuredataset = pickle.load(ifile)\n",
        "    ifile.close()\n",
        "    print('Successfully Loaded!\\nIt took %.1fs to load from compressed pickle' % (time()-startime))\n",
        "elif LOAD_DATA_FROM == 'pickle':\n",
        "    print(\"Reading dataset from pickle...\")\n",
        "    DATASET_PATH = os.path.join(DATAFOLDER,'20220929_115154_onlycorrectdetections.pickle')\n",
        "    startime = time()\n",
        "    with open(DATASET_PATH,'rb') as pf:\n",
        "        featuredataset = pickle.load(pf)\n",
        "    print('Successfully Loaded!\\nIt took %.1fs to load from regular pickle' % (time()-startime))\n",
        "\n",
        "# display(featuredataset)"
      ]
    },
    {
      "cell_type": "code",
      "execution_count": 25,
      "metadata": {},
      "outputs": [
        {
          "name": "stdout",
          "output_type": "stream",
          "text": [
            "Loading file metaplus_onlycorrectdetections_extraction-outputPROCESSED_FEATURES_20221125-144015_gainaug-phase3-aug1PROCESSED_FEATURES.pickle\n",
            "Loading file metaplus_onlycorrectdetections_extraction-outputPROCESSED_FEATURES_20221125-160225_gainaug-phase3-aug3PROCESSED_FEATURES.pickle\n",
            "Loading file metaplus_onlycorrectdetections_extraction-outputPROCESSED_FEATURES_20221125-163857_gainaug-phase3-aug4PROCESSED_FEATURES.pickle\n",
            "Loading file metaplus_onlycorrectdetections_extraction-outputPROCESSED_FEATURES_20221125-152410_gainaug-phase3-aug2PROCESSED_FEATURES.pickle\n",
            "Loaded 92293 augmented samples\n"
          ]
        }
      ],
      "source": [
        "from glob import glob\n",
        "augmented_featuredataset_list = []\n",
        "if USE_AUGMENTED_DATA:\n",
        "    augmented_data_paths = glob(os.path.join(DATAFOLDER,'augmented_data','*.pickle'))\n",
        "    for augmented_data_path in augmented_data_paths:\n",
        "        print(\"Loading file %s\" % os.path.basename(augmented_data_path))\n",
        "        with open(augmented_data_path,'rb') as pf:\n",
        "            augmented_featuredataset_list.append(pickle.load(pf))\n",
        "    augmented_featuredataset = pd.concat(augmented_featuredataset_list, ignore_index=True)\n",
        "    print(\"Loaded %d augmented samples\" % len(augmented_featuredataset))"
      ]
    },
    {
      "cell_type": "markdown",
      "metadata": {
        "id": "3E1rKcNy5RqZ"
      },
      "source": [
        "### Drop features that we have found to be problematic with feature selection and training"
      ]
    },
    {
      "cell_type": "code",
      "execution_count": 26,
      "metadata": {
        "id": "Uhip8r7F4sSv"
      },
      "outputs": [],
      "source": [
        "def drop_unused_features(features_df: pd.DataFrame, inplace = False) -> pd.DataFrame:\n",
        "    if not inplace:\n",
        "        res_df = features_df.copy()\n",
        "    else:\n",
        "        res_df = features_df\n",
        "    if 'attackTime_peaksamp'       not in res_df.columns.to_list() or\\\n",
        "       'attackTime_attackStartIdx' not in res_df.columns.to_list() or\\\n",
        "       'peakSample_index'          not in res_df.columns.to_list():\n",
        "       raise Exception(\"The features dataframe does not contain the required columns!\")\n",
        "\n",
        "    res_df.drop(columns=['attackTime_peaksamp',\\\n",
        "                                'attackTime_attackStartIdx',\\\n",
        "                                'peakSample_index'], inplace=True)\n",
        "    return res_df\n",
        "\n",
        "featuredataset = drop_unused_features(featuredataset)\n",
        "if USE_AUGMENTED_DATA:\n",
        "    augmented_featuredataset = drop_unused_features(augmented_featuredataset)"
      ]
    },
    {
      "cell_type": "markdown",
      "metadata": {
        "id": "a0xh-UknklQy"
      },
      "source": [
        "### If specified, drop extra percussive recorded data"
      ]
    },
    {
      "cell_type": "code",
      "execution_count": 27,
      "metadata": {
        "id": "WvUB_btbklQy"
      },
      "outputs": [
        {
          "name": "stdout",
          "output_type": "stream",
          "text": [
            "Dropping 2237 additional percussive recordings because \"DROP_EXTRA_PERCUSSIVE_SOUNDS\" was specified.\n",
            "Dataset shape after dropping extra percussive recordings: (21053, 504)\n"
          ]
        }
      ],
      "source": [
        "assert featuredataset.shape == (23290, 504)\n",
        "if DROP_EXTRA_PERCUSSIVE_SOUNDS:\n",
        "    to_drop_count = np.count_nonzero(featuredataset.meta_audiofilePath.str.contains(\"additional-500\").values)\n",
        "    if to_drop_count >= 0:\n",
        "        print('Dropping %d additional percussive recordings because \"DROP_EXTRA_PERCUSSIVE_SOUNDS\" was specified.'%(to_drop_count))\n",
        "        featuredataset = featuredataset[~featuredataset.meta_audiofilePath.str.contains(\"additional-500\")].reset_index(drop=True)\n",
        "        print('Dataset shape after dropping extra percussive recordings: %s'%(str(featuredataset.shape)))\n",
        "    assert featuredataset.shape == (21053, 504)\n",
        "\n",
        "\n",
        "augmented_featuredataset_dr = augmented_featuredataset.copy()\n",
        "if USE_AUGMENTED_DATA and DROP_EXTRA_PERCUSSIVE_SOUNDS_FROMAUG:\n",
        "    to_drop_count_aug = np.count_nonzero(augmented_featuredataset.meta_augmentation_source.str.contains(\"additional-500\").values)\n",
        "    if to_drop_count_aug >= 0:\n",
        "        print('Dropping %d additional percussive recordings because \"DROP_EXTRA_PERCUSSIVE_SOUNDS\" was specified.'%(to_drop_count_aug))\n",
        "        augmented_featuredataset_dr = augmented_featuredataset[~augmented_featuredataset.meta_augmentation_source.str.contains(\"additional-500\")].reset_index(drop=True)\n",
        "        print('Dataset shape after dropping extra percussive recordings: %s'%(str(augmented_featuredataset_dr.shape)))\n",
        "\n"
      ]
    },
    {
      "cell_type": "code",
      "execution_count": 28,
      "metadata": {
        "id": "-HN56MAc5kjA"
      },
      "outputs": [],
      "source": [
        "# Extract separate DFs\n",
        "from typing import Tuple\n",
        "\n",
        "# Divide dataset into metadata, features and labels\n",
        "def divide_dataset(features_df: pd.DataFrame) -> Tuple[pd.DataFrame, pd.DataFrame, pd.DataFrame]:\n",
        "    metadata = features_df.filter(regex='^meta_',axis=1)\n",
        "    labels = features_df.meta_expressive_technique_id\n",
        "    features = features_df.loc[:,[col for col in features_df.columns if col not in metadata.columns]]\n",
        "    # Convert to numeric formats where possible (somehow convert_dtypes doesn't work [https://stackoverflow.com/questions/65915048/pandas-convert-dtypes-not-working-on-numbers-marked-as-objects])\n",
        "    metadata = metadata.apply(pd.to_numeric, errors='ignore')\n",
        "    labels = labels.apply(pd.to_numeric, errors='ignore')\n",
        "    features = features.apply(pd.to_numeric, errors='ignore')\n",
        "    return metadata, features, labels\n",
        "\n",
        "metadata, features, labels = divide_dataset(featuredataset)\n",
        "assert metadata.shape[1] == 9\n",
        "assert features.shape[1] == 495\n",
        "\n",
        "if USE_AUGMENTED_DATA:\n",
        "    metadata_aug, features_aug, labels_aug = divide_dataset(augmented_featuredataset_dr)"
      ]
    },
    {
      "cell_type": "code",
      "execution_count": 29,
      "metadata": {
        "id": "X1iiyTkcYKFi"
      },
      "outputs": [],
      "source": [
        "def get_classes_description(classftask: ClassificationTask):\n",
        "    if classification_task == ClassificationTask.FULL_8_CLASS_PROBLEM:\n",
        "        classes_desk = {0:\"Kick\",1:\"Snare 1\",2:\"Tom\",3:\"Snare 2\",4:\"Natural Harmonics\",5:\"Palm Mute\",6:\"Pick Near Bridge\",7:\"Pick Over the Soundhole\"}\n",
        "    elif classification_task == ClassificationTask.BINARY_PERCUSSIVE_PITCHED:\n",
        "        classes_desk = {0:\"Percussive\",1:\"Pitched\"}\n",
        "    elif classification_task == ClassificationTask.PERCUSSIVE_4_ONLY:\n",
        "        classes_desk = {0:\"Kick\", 1:\"Snare 1\", 2:\"Tom\", 3:\"Snare 2\"}\n",
        "    elif classification_task == ClassificationTask.PITCHED_4_ONLY:\n",
        "        classes_desk = {0:\"Natural Harmonics\", 1:\"Palm Mute\", 2:\"Pick Near Bridge\", 3:\"Pick Over the Soundhole\"}\n",
        "    elif classification_task == ClassificationTask.PERCUSSIVE_PLUS_PITCHED_CLASS:\n",
        "        classes_desk = {0:\"Kick\", 1:\"Snare 1\", 2:\"Tom\", 3:\"Snare 2\", 4:\"Pitched\"}\n",
        "    else:\n",
        "        raise Exception('The Classification Task selected is not supported')\n",
        "    classes = list(classes_desk.keys())\n",
        "    return classes,classes_desk\n",
        "\n",
        "def filter_dataset(tofilt_features,tofilt_labels,tofilt_metadata,classftask: ClassificationTask, hardcoded_sizes_test = False):\n",
        "    if classification_task == ClassificationTask.FULL_8_CLASS_PROBLEM:\n",
        "        pass\n",
        "    elif classification_task == ClassificationTask.BINARY_PERCUSSIVE_PITCHED:\n",
        "        assert len(tofilt_features) == len(tofilt_labels)\n",
        "        if hardcoded_sizes_test:\n",
        "            assert len(tofilt_features) == 21053\n",
        "        tofilt_labels = tofilt_labels.replace([0,1,2,3],[0,0,0,0])\n",
        "        tofilt_labels = tofilt_labels.replace([4,5,6,7],[1,1,1,1])\n",
        "    elif classification_task == ClassificationTask.PERCUSSIVE_4_ONLY:\n",
        "        assert len(tofilt_features) == len(tofilt_labels)\n",
        "        if hardcoded_sizes_test:\n",
        "            assert len(tofilt_features) == 21053\n",
        "        filtered_idxs = tofilt_labels < 4\n",
        "        tofilt_features = tofilt_features[filtered_idxs]\n",
        "        tofilt_labels = tofilt_labels[filtered_idxs]\n",
        "        tofilt_metadata = tofilt_metadata[filtered_idxs].copy()\n",
        "        assert len(tofilt_features) == len(tofilt_labels)\n",
        "        if hardcoded_sizes_test:\n",
        "            assert len(tofilt_features) == 1620\n",
        "    elif classification_task == ClassificationTask.PITCHED_4_ONLY:\n",
        "        assert len(tofilt_features) == len(tofilt_labels)\n",
        "        if hardcoded_sizes_test:\n",
        "            assert len(tofilt_features) == 21053\n",
        "        filtered_idxs = tofilt_labels >= 4\n",
        "        tofilt_features = tofilt_features[filtered_idxs]\n",
        "        tofilt_metadata = tofilt_metadata[filtered_idxs].copy()\n",
        "        tofilt_labels = tofilt_labels[filtered_idxs]\n",
        "        tofilt_labels = tofilt_labels.replace([4,5,6,7],[0,1,2,3])\n",
        "        assert len(tofilt_features) == len(tofilt_labels)\n",
        "        if hardcoded_sizes_test:\n",
        "            assert len(tofilt_features) == 19433\n",
        "    elif classification_task == ClassificationTask.PERCUSSIVE_PLUS_PITCHED_CLASS:\n",
        "        assert len(tofilt_features) == len(tofilt_labels)\n",
        "        if hardcoded_sizes_test:\n",
        "            assert len(tofilt_features) == 21053\n",
        "        tofilt_labels = tofilt_labels.replace([5,6,7],[4,4,4])\n",
        "    else:\n",
        "        raise Exception('The Classification Task selected is not supported')\n",
        "\n",
        "\n",
        "    tofilt_features.reset_index(drop=True,inplace=True)\n",
        "    tofilt_labels.reset_index(drop=True,inplace=True)\n",
        "    tofilt_metadata.reset_index(drop=True,inplace=True)\n",
        "\n",
        "    return tofilt_features, tofilt_labels, tofilt_metadata\n",
        "\n",
        "original_dataset_features = features.copy()\n",
        "dataset_labels = labels.copy()\n",
        "dataset_metadata = metadata.copy()\n",
        "\n",
        "CLASSES,CLASSES_DESC = get_classes_description(classification_task)\n",
        "original_dataset_features,dataset_labels,dataset_metadata = filter_dataset(original_dataset_features,dataset_labels,dataset_metadata,classification_task,hardcoded_sizes_test=True)\n",
        "if USE_AUGMENTED_DATA:\n",
        "    features_aug,labels_aug,metadata_aug = filter_dataset(features_aug,labels_aug,metadata_aug,classification_task,hardcoded_sizes_test=False)\n",
        "    assert len(np.sort(CLASSES)) == len(np.sort(pd.unique(labels_aug))) and np.equal(np.sort(CLASSES),np.sort(pd.unique(labels_aug))).all()\n",
        "\n",
        "assert len(np.sort(CLASSES)) == len(np.sort(pd.unique(dataset_labels))) and np.equal(np.sort(CLASSES),np.sort(pd.unique(dataset_labels))).all()"
      ]
    },
    {
      "cell_type": "code",
      "execution_count": 30,
      "metadata": {
        "id": "H_JEEbL-mcJ-"
      },
      "outputs": [
        {
          "name": "stdout",
          "output_type": "stream",
          "text": [
            "Dataset \"Main datase\" read\n",
            "| Entries: 1620\n",
            "╰─ Features: 495\n",
            "Dataset \"Augmented data\" read\n",
            "| Entries: 15609\n",
            "╰─ Features: 495\n"
          ]
        }
      ],
      "source": [
        "if USE_AUGMENTED_DATA:\n",
        "    for dat,name in [(original_dataset_features,'Main datase'),(features_aug,'Augmented data')]:\n",
        "        print('Dataset \"'+name+'\" read')\n",
        "        print(\"| Entries: \"+str(dat.shape[0]))\n",
        "        print(\"╰─ Features: \"+str(dat.shape[1]))\n",
        "\n",
        "original_feature_number = original_dataset_features.shape[1]\n",
        "(relief_data_X,relief_data_y) = (original_dataset_features.values,dataset_labels.values.ravel())"
      ]
    },
    {
      "cell_type": "code",
      "execution_count": 31,
      "metadata": {
        "id": "v2gv9fFFavMz"
      },
      "outputs": [
        {
          "name": "stdout",
          "output_type": "stream",
          "text": [
            "6d44679eced50127e10b740d7545884fbc05374333f9b48c07281417687ca13d\n"
          ]
        }
      ],
      "source": [
        "# Compute has of the dataset files.\n",
        "# This are used to cache precomputed feature selection with ReliefF (Which is rather slow)\n",
        "import hashlib\n",
        " \n",
        "dataset_sha256_hash = hashlib.sha256()\n",
        "with open(DATASET_PATH,\"rb\") as fy:\n",
        "    for byte_block in iter(lambda: fy.read(4096),b\"\"):    # Read and update hash string value in blocks of 4K\n",
        "        dataset_sha256_hash.update(byte_block)\n",
        "dataset_sha256_hash = dataset_sha256_hash.hexdigest()\n",
        "\n",
        "print(dataset_sha256_hash)"
      ]
    },
    {
      "cell_type": "markdown",
      "metadata": {
        "id": "IjF3Cif5zr1p"
      },
      "source": [
        "## Subset features"
      ]
    },
    {
      "cell_type": "code",
      "execution_count": 32,
      "metadata": {
        "id": "--hCfGHKZK98"
      },
      "outputs": [],
      "source": [
        "def get_manual_selected_features(data):\n",
        "    print (\"Subsetting features...\")\n",
        "    columns_to_keep = []\n",
        "    # if USE_ATTACKTIME_PEAKSAMP:\n",
        "    #     columns_to_keep.append(\"attackTime_peaksamp\")\n",
        "    # if USE_ATTACKTIME_ATTACKSTARTIDX:\n",
        "    #     columns_to_keep.append(\"attackTime_attackStartIdx\")\n",
        "    if USE_ATTACKTIME_VALUE:\n",
        "        columns_to_keep.append(\"attackTime_value\")\n",
        "    if USE_BARKSPECBRIGHTNESS:\n",
        "        columns_to_keep.append(\"barkSpecBrightness\")\n",
        "    if USE_PEAKSAMPLE_VALUE:\n",
        "        columns_to_keep.append(\"peakSample_value\")\n",
        "    # if USE_PEAKSAMPLE_INDEX:\n",
        "    #     columns_to_keep.append(\"peakSample_index\")\n",
        "    if USE_ZEROCROSSING:\n",
        "        columns_to_keep.append(\"zeroCrossing\")\n",
        "\n",
        "    assert USE_BARKSPEC <= 50 and USE_BARKSPEC >= 0 and USE_BFCC <= 49 and USE_BFCC >= 0 and USE_CEPSTRUM <= 353 and USE_CEPSTRUM >= 0 and USE_MFCC <= 37 and USE_MFCC >= 0\n",
        "\n",
        "    if USE_BARKSPEC > 0:\n",
        "        columns_to_keep += ['barkSpec_'+str(i+1) for i in range(USE_BARKSPEC)]\n",
        "    if USE_BFCC > 0:\n",
        "        columns_to_keep += ['bfcc_'+str(i+2) for i in range(USE_BFCC)]  # +2 is correct here since we want to skip the first normalized coefficient\n",
        "    if USE_CEPSTRUM > 0:\n",
        "        columns_to_keep += ['cepstrum_'+str(i+1) for i in range(USE_CEPSTRUM)]\n",
        "    if USE_MFCC > 0:\n",
        "        columns_to_keep += ['mfcc_'+str(i+2) for i in range(USE_MFCC)]  # +2 is correct here since we want to skip the first normalized coefficient\n",
        "\n",
        "    return columns_to_keep"
      ]
    },
    {
      "cell_type": "code",
      "execution_count": 33,
      "metadata": {
        "id": "agcUWSWVbokS"
      },
      "outputs": [],
      "source": [
        "## To Compeltely reset RelieFF cache\n",
        "# with open(RELIEF_CACHE_FILEPATH, 'wb') as rcf:\n",
        "#     pickle.dump(set(), rcf)"
      ]
    },
    {
      "cell_type": "code",
      "execution_count": 34,
      "metadata": {
        "id": "PBDXJV0dnx2W"
      },
      "outputs": [],
      "source": [
        "# how_many_examples_per_class =10\n",
        "# subselection = list(range(0,how_many_examples_per_class))+\\\n",
        "#                list(range(600,600+how_many_examples_per_class))+\\\n",
        "#                list(range(1100,1100+how_many_examples_per_class))+\\\n",
        "#                list(range(1400,1400+how_many_examples_per_class))+\\\n",
        "#                list(range(1900,1900+how_many_examples_per_class))+\\\n",
        "#                list(range(3000,3000+how_many_examples_per_class))+\\\n",
        "#                list(range(9000,9000+how_many_examples_per_class))+\\\n",
        "#                list(range(14000,14000+how_many_examples_per_class))\n",
        "\n",
        "# testprova_dataset_features = original_dataset_features.iloc[subselection]\n",
        "# testprova_dataset_labels = dataset_labels.iloc[subselection]\n",
        "import os, platform, subprocess, re\n",
        "\n",
        "def get_processor_name():\n",
        "    if platform.system() == \"Windows\":\n",
        "        return platform.processor()\n",
        "    elif platform.system() == \"Darwin\":\n",
        "        os.environ['PATH'] = os.environ['PATH'] + os.pathsep + '/usr/sbin'\n",
        "        command =\"sysctl -n machdep.cpu.brand_string\"\n",
        "        return subprocess.check_output(command).strip()\n",
        "    elif platform.system() == \"Linux\":\n",
        "        command = \"cat /proc/cpuinfo\"\n",
        "        all_info = subprocess.check_output(command, shell=True).decode().strip()\n",
        "        for line in all_info.split(\"\\n\"):\n",
        "            if \"model name\" in line:\n",
        "                return re.sub( \".*model name.*:\", \"\", line,1)\n",
        "    return \"\"\n",
        "\n",
        "class ReliefCacheElem(dict):\n",
        "\n",
        "    PRINT_HASH = False\n",
        "\n",
        "    def __init__(self,dataset_sha256,n_neighbors,relieff_top_features,relieff_feature_importances,time_of_computation):\n",
        "        self.dataset_sha256 = dataset_sha256\n",
        "        self.n_neighbors = n_neighbors\n",
        "        self.relieff_top_features = relieff_top_features\n",
        "        self.relieff_feature_importances = relieff_feature_importances\n",
        "        self.date = strftime(\"%Y/%m/%d-%H:%M:%S\")\n",
        "\n",
        "        self.cpu_info = get_processor_name()\n",
        "        self.time_of_computation = time_of_computation\n",
        "\n",
        "    def __key(self):\n",
        "        return tuple([self.dataset_sha256,\n",
        "                     self.n_neighbors,\n",
        "                     str(self.relieff_top_features),\n",
        "                     str(self.relieff_feature_importances)])\n",
        "\n",
        "    def __hash__(self):\n",
        "        return hash(self.__key())\n",
        "\n",
        "    def __str__(self):\n",
        "        res = '{date: '+self.date+', n_neighbors:'+str(self.n_neighbors)\n",
        "        \n",
        "        if self.PRINT_HASH:\n",
        "            res += 'dataset_sha256:'+str(self.dataset_sha256)+','\n",
        "\n",
        "        res += 'cpu_info:'+str(self.cpu_info)+','\n",
        "        res += 'time_of_computation:'+str(self.time_of_computation)+','\n",
        "        res += '}'\n",
        "        return res\n",
        "\n",
        "\n",
        "def relieff_selection(X:list,y:list,n_features,n_neighbors,relief_cache_filepath,verbose_ = True):\n",
        "    relief_data_X = X\n",
        "    relief_data_y = y\n",
        "    relief_top_features_ = None\n",
        "    relief_feature_importances_ = None\n",
        "    # First check if result is already cached\n",
        "    ## Load Cache\n",
        "    relief_cache = None\n",
        "\n",
        "    ##----------------------------------------------##\n",
        "    if not os.path.exists(relief_cache_filepath):\n",
        "        raise Exception(\"RELIEF CACHE NOT FOUND at '\"+relief_cache_filepath+\"'! Comment exception to create empty cache\")\n",
        "        with open(relief_cache_filepath, 'wb') as rcf:\n",
        "            pickle.dump(set(), rcf)\n",
        "    ##----------------------------------------------##\n",
        "\n",
        "    with open(relief_cache_filepath,'rb') as rcf:\n",
        "        relief_cache = pickle.load(rcf)\n",
        "        if verbose_: \n",
        "            print('Loaded Relief cache ('+str(len(relief_cache))+' solutions)')\n",
        "    # Check if present\n",
        "    for cache_elem in relief_cache:\n",
        "        if cache_elem.dataset_sha256 == dataset_sha256_hash and\\\n",
        "           cache_elem.n_neighbors == n_neighbors:\n",
        "            if verbose_:\n",
        "                print(\"Result found in cache!\")\n",
        "            return cache_elem.relieff_top_features[:n_features]\n",
        "    \n",
        "    # If not present, compute\n",
        "    if verbose_:\n",
        "        print(\"Result NOT found in cache, computing now... (might take a long while)\")\n",
        "    \n",
        "    from skrebate import ReliefF\n",
        "    r = ReliefF(n_neighbors=n_neighbors,verbose=verbose_)\n",
        "    \n",
        "    start_fit = time()\n",
        "    r.fit(X=relief_data_X,y=relief_data_y)\n",
        "    top_features = r.top_features_\n",
        "    feature_importances = r.feature_importances_\n",
        "    stop_fit = time()\n",
        "\n",
        "    if verbose_:\n",
        "        print(\"Done. Now storing in cache...\")\n",
        "\n",
        "    savedata = ReliefCacheElem(\n",
        "        dataset_sha256 = dataset_sha256_hash,\n",
        "        n_neighbors = n_neighbors,\n",
        "        relieff_top_features = top_features,\n",
        "        relieff_feature_importances = feature_importances,\n",
        "        time_of_computation = stop_fit - start_fit)\n",
        "    relief_cache.add(savedata)\n",
        "    with open(relief_cache_filepath, 'wb') as rcf:\n",
        "        pickle.dump(relief_cache, rcf)\n",
        "\n",
        "    if verbose_:\n",
        "        print(\"Done.\")\n",
        "\n",
        "\n",
        "    return top_features[:n_features]"
      ]
    },
    {
      "cell_type": "code",
      "execution_count": 35,
      "metadata": {
        "id": "oas8vnnMQ0uP"
      },
      "outputs": [
        {
          "name": "stdout",
          "output_type": "stream",
          "text": [
            "1 cached relief runs:\n",
            "(1/1 are from the same dataset)\n",
            "0 : {date: 2022/10/03-12:18:23, n_neighbors:5cpu_info: Intel(R) Core(TM) i9-10940X CPU @ 3.30GHz,time_of_computation:3267.6181452274323,}\n"
          ]
        }
      ],
      "source": [
        "with open(RELIEF_CACHE_FILEPATH,'rb') as rcf:\n",
        "    relief_cache = pickle.load(rcf)\n",
        "    \n",
        "    print(len(relief_cache),'cached relief runs:')\n",
        "\n",
        "    if len(relief_cache) != 0:\n",
        "        samedataset = [e for e in relief_cache if e.dataset_sha256 == dataset_sha256_hash]\n",
        "        print('('+str(len(samedataset))+'/'+str(len(relief_cache)), 'are from the same dataset)')\n",
        "        if len(samedataset) != len(relief_cache):\n",
        "            raise Exception('Some of the cached results are from a different dataset!')\n",
        "\n",
        "        for i,e in enumerate(relief_cache):\n",
        "            print(i,':',e)\n"
      ]
    },
    {
      "cell_type": "code",
      "execution_count": 36,
      "metadata": {
        "id": "kLX_8-4Zaagm"
      },
      "outputs": [],
      "source": [
        "class FeatureSelection(Enum):\n",
        "    MANUAL_VARIABLES = 1\n",
        "    MANUAL_LIST = 2\n",
        "    AUTO_ANOVA = 3      # https://scikit-learn.org/stable/modules/generated/sklearn.feature_selection.f_classif.html\n",
        "    AUTO_RELIEF = 4"
      ]
    },
    {
      "cell_type": "code",
      "execution_count": 37,
      "metadata": {
        "id": "JVkiDFjjztbM"
      },
      "outputs": [
        {
          "name": "stdout",
          "output_type": "stream",
          "text": [
            "30 best features:['barkSpecBrightness', 'barkSpec_1', 'barkSpec_2', 'barkSpec_3', 'barkSpec_4', 'barkSpec_8', 'barkSpec_9', 'barkSpec_10', 'barkSpec_11', 'barkSpec_12', 'barkSpec_22', 'barkSpec_30', 'barkSpec_31', 'barkSpec_50', 'bfcc_2', 'bfcc_3', 'bfcc_4', 'bfcc_5', 'bfcc_6', 'bfcc_7', 'bfcc_8', 'bfcc_9', 'cepstrum_2', 'mfcc_3', 'mfcc_4', 'mfcc_5', 'mfcc_6', 'mfcc_7', 'mfcc_8', 'mfcc_9']\n",
            "Features reduced automatically (FeatureSelection.AUTO_ANOVA) from 495 to : 30\n"
          ]
        }
      ],
      "source": [
        "# ------------------------------------------------------------------------------------------------------------------------------- #\n",
        "#\n",
        "# FEATURE_SELECTION = FeatureSelection.MANUAL_VARIABLES\n",
        "# FEATURE_SELECTION = FeatureSelection.MANUAL_LIST\n",
        "FEATURE_SELECTION = FeatureSelection.AUTO_ANOVA\n",
        "# FEATURE_SELECTION = FeatureSelection.AUTO_RELIEF\n",
        "AUTO_FEATURE_NUMBER = args['features']    # If FEATURE_SELECTION is AUTO_ANOVA or AUTO_RELIEF, select this number of features automatically\n",
        "#\n",
        "# ------------------------------------------------------------------------------------------------------------------------------- #\n",
        "\n",
        "if FEATURE_SELECTION == FeatureSelection.MANUAL_VARIABLES:\n",
        "    ''' Features '''\n",
        "    USE_ATTACKTIME_VALUE = True\n",
        "    USE_BARKSPECBRIGHTNESS = True\n",
        "    USE_PEAKSAMPLE_VALUE = True\n",
        "    USE_ZEROCROSSING = False\n",
        "\n",
        "    USE_BARKSPEC = 40 # Number in range [0-50]\n",
        "    USE_BFCC = 40     # Number in range [0-50]\n",
        "    USE_CEPSTRUM = 60 # Number in range [0-353]\n",
        "    USE_MFCC = 30     # Number in range [0-38]\n",
        "\n",
        "    selected_features = get_manual_selected_features(original_dataset_features)\n",
        "elif FEATURE_SELECTION == FeatureSelection.MANUAL_LIST:\n",
        "    selected_features = ['attackTime_value', 'barkSpecBrightness', 'barkSpec_1', 'barkSpec_2', 'barkSpec_3', 'barkSpec_4', 'barkSpec_5', 'barkSpec_6', 'barkSpec_7', 'barkSpec_8', 'barkSpec_9', 'barkSpec_10', 'barkSpec_11', 'barkSpec_12', 'barkSpec_13', 'barkSpec_14', 'barkSpec_15', 'barkSpec_16', 'barkSpec_17', 'barkSpec_18', 'barkSpec_19', 'barkSpec_20', 'barkSpec_21', 'barkSpec_22', 'barkSpec_23', 'barkSpec_24', 'barkSpec_25', 'barkSpec_26', 'barkSpec_27', 'barkSpec_28', 'barkSpec_29', 'barkSpec_30', 'barkSpec_31', 'barkSpec_32', 'barkSpec_33', 'barkSpec_34', 'barkSpec_35', 'barkSpec_36', 'barkSpec_37', 'barkSpec_38', 'barkSpec_39', 'barkSpec_40', 'barkSpec_41', 'barkSpec_42', 'barkSpec_43', 'barkSpec_44', 'barkSpec_45', 'barkSpec_46', 'barkSpec_47', 'barkSpec_48', 'barkSpec_49', 'barkSpec_50', 'bfcc_2', 'bfcc_3', 'bfcc_4', 'bfcc_5', 'bfcc_6', 'bfcc_7', 'bfcc_8', 'bfcc_9', 'bfcc_10', 'bfcc_11', 'bfcc_12', 'bfcc_13', 'bfcc_15', 'bfcc_16', 'bfcc_17', 'bfcc_18', 'bfcc_19', 'bfcc_20', 'bfcc_21', 'bfcc_25', 'bfcc_26', 'bfcc_27', 'bfcc_28', 'bfcc_29', 'bfcc_30', 'bfcc_31', 'bfcc_35', 'bfcc_36', 'bfcc_37', 'bfcc_39', 'bfcc_40', 'bfcc_42', 'bfcc_43', 'bfcc_44', 'bfcc_45', 'bfcc_46', 'bfcc_48', 'cepstrum_1', 'cepstrum_2', 'cepstrum_3', 'cepstrum_4', 'cepstrum_5', 'cepstrum_6', 'cepstrum_7', 'cepstrum_8', 'cepstrum_9', 'cepstrum_10', 'cepstrum_11', 'cepstrum_12', 'cepstrum_13', 'cepstrum_14', 'cepstrum_15', 'cepstrum_16', 'cepstrum_17', 'cepstrum_18', 'cepstrum_19', 'cepstrum_20', 'cepstrum_21', 'cepstrum_22', 'cepstrum_23', 'cepstrum_24', 'cepstrum_25', 'cepstrum_26', 'cepstrum_27', 'cepstrum_28', 'cepstrum_29', 'cepstrum_30', 'cepstrum_31', 'cepstrum_32', 'cepstrum_33', 'cepstrum_34', 'cepstrum_35', 'cepstrum_36', 'cepstrum_37', 'cepstrum_41', 'cepstrum_42', 'cepstrum_43', 'cepstrum_44', 'cepstrum_45', 'cepstrum_46', 'cepstrum_47', 'cepstrum_48', 'cepstrum_49', 'cepstrum_54', 'cepstrum_56', 'cepstrum_59', 'cepstrum_60', 'cepstrum_67', 'cepstrum_72', 'cepstrum_86', 'cepstrum_87', 'cepstrum_108', 'cepstrum_164', 'cepstrum_205', 'cepstrum_206', 'mfcc_1', 'mfcc_2', 'mfcc_3', 'mfcc_4', 'mfcc_5', 'mfcc_6', 'mfcc_7', 'mfcc_8', 'mfcc_9', 'mfcc_10', 'mfcc_11', 'mfcc_12', 'mfcc_13', 'mfcc_14', 'mfcc_15', 'mfcc_16', 'mfcc_17', 'mfcc_18', 'mfcc_19', 'mfcc_20', 'mfcc_21', 'mfcc_22', 'mfcc_23', 'mfcc_24', 'mfcc_25', 'mfcc_26', 'mfcc_32', 'mfcc_33', 'mfcc_34', 'mfcc_35', 'mfcc_36', 'peakSample_value', 'zeroCrossing']\n",
        "elif FEATURE_SELECTION == FeatureSelection.AUTO_ANOVA:\n",
        "    if original_dataset_features.shape[1] != original_feature_number:\n",
        "        raise ValueError(\"ERROR: please import dataset again since you are trying to subset an already processed feature set (\"+str(dataset_features.shape[1])+\"<\"+str(original_feature_number)+\")\")\n",
        "\n",
        "    # ANOVA feature selection for numeric input and categorical output (https://machinelearningmastery.com/feature-selection-with-real-and-categorical-data/#:~:text=Feature%20selection%20is%20the%20process,the%20performance%20of%20the%20model)\n",
        "    from sklearn.feature_selection import SelectKBest\n",
        "    from sklearn.feature_selection import f_classif\n",
        "    \n",
        "    fs = SelectKBest(score_func=f_classif, k=AUTO_FEATURE_NUMBER) # Define feature selection\n",
        "    X_selected = fs.fit_transform(original_dataset_features.to_numpy(), dataset_labels.to_numpy().ravel())                         # Apply feature selection\n",
        "    support = fs.get_support(indices=True)                      # Extract selected indexes\n",
        "    selected_features = original_dataset_features.columns[support].tolist()\n",
        "    print(str(AUTO_FEATURE_NUMBER)+\" best features:\" + str(selected_features))\n",
        "elif FEATURE_SELECTION == FeatureSelection.AUTO_RELIEF:\n",
        "    \n",
        "    support = relieff_selection(relief_data_X,relief_data_y,AUTO_FEATURE_NUMBER,n_neighbors=5,relief_cache_filepath=RELIEF_CACHE_FILEPATH,verbose_= True)\n",
        "    selected_features = original_dataset_features.columns[support].tolist()\n",
        "    print(str(AUTO_FEATURE_NUMBER)+\" best features:\" + str(selected_features))\n",
        "    \n",
        "\n",
        "else:\n",
        "    raise Exception(\"ERROR! This type of feature selection is not supported\")\n",
        "\n",
        "dataset_features = original_dataset_features.copy().loc[:,selected_features]\n",
        "if USE_AUGMENTED_DATA:\n",
        "    features_aug = features_aug.copy().loc[:,selected_features]\n",
        "print(\"Features reduced \"+('manually' if (FEATURE_SELECTION == FeatureSelection.MANUAL_LIST or FEATURE_SELECTION == FeatureSelection.MANUAL_VARIABLES) else 'automatically')+\" (\"+str(FEATURE_SELECTION)+\") from \"+str(original_feature_number)+\" to : \"+str(dataset_features.shape[1]))"
      ]
    },
    {
      "cell_type": "markdown",
      "metadata": {
        "id": "Nxb5oNdswky3"
      },
      "source": [
        "## Evaluate class support\n",
        "(What percentage of dataset entries represent each class)"
      ]
    },
    {
      "cell_type": "code",
      "execution_count": 38,
      "metadata": {
        "id": "vOwPsK_h5r3q"
      },
      "outputs": [],
      "source": [
        "DO_PRINT_SUPPORT = False\n",
        "def printSupport (labels_ds):\n",
        "    binc = np.bincount(np.reshape(labels_ds,labels_ds.size))\n",
        "    for i in range(binc.size):\n",
        "        print(\"Class \" + str(i) + \" support: \" + str(\"{:.2f}\".format(binc[i]/sum(binc) * 100)) + \"%\")\n",
        "        \n",
        "if DO_PRINT_SUPPORT:\n",
        "    printSupport(dataset_labels.to_numpy())"
      ]
    },
    {
      "cell_type": "markdown",
      "metadata": {
        "id": "w196aHu6YqnH"
      },
      "source": [
        "# Define model architecture,\n",
        "Loss, optimizer and compile model"
      ]
    },
    {
      "cell_type": "code",
      "execution_count": 39,
      "metadata": {
        "id": "1Be14IPJTg_4"
      },
      "outputs": [],
      "source": [
        "def define_model_architecture(num_classes:int, _verbose = False):\n",
        "    tf.keras.backend.set_floatx('float32')\n",
        "\n",
        "    net_width = args['net_width']\n",
        "\n",
        "    dropout_rate = args['dropout']\n",
        "\n",
        "    # sequential_structure = [tf.keras.Input(shape=(args['features'],))]\n",
        "    sequential_structure = []\n",
        "\n",
        "    for i in range(0,args['net_depth']):\n",
        "        sequential_structure += [tf.keras.layers.Dense(net_width,activation='relu',\n",
        "                                                       kernel_initializer='he_uniform'), #   X   |           |         |\n",
        "                                 tf.keras.layers.BatchNormalization(),                   #       |     X     |         |\n",
        "                                 tf.keras.layers.Dropout(dropout_rate)                   #       |           |    X    |\n",
        "                                ]\n",
        "\n",
        "    sequential_structure += [tf.keras.layers.Dense(net_width,activation='relu',\n",
        "                                                   kernel_initializer='he_uniform'),     #   X   |           |         |\n",
        "                                                   tf.keras.layers.Dense(num_classes)]               \n",
        "\n",
        "    model = tf.keras.models.Sequential(sequential_structure)\n",
        "\n",
        "    timestr = strftime(\"%Y%m%d-%H%M%S\")\n",
        "    model._name = \"guitar_timbre_classifier_\" + timestr\n",
        "    if _verbose:\n",
        "        print(\"Created model: '\" + model.name + \"'\")\n",
        "\n",
        "    return model\n",
        "\n",
        "def get_loss():\n",
        "    return tf.keras.losses.SparseCategoricalCrossentropy(from_logits=True)"
      ]
    },
    {
      "cell_type": "code",
      "execution_count": 40,
      "metadata": {
        "id": "3kOMPQBTXVXb"
      },
      "outputs": [],
      "source": [
        "def compile_model(model,optimizer,loss_fn,_verbose = False):\n",
        "    opt = None\n",
        "    if optimizer[\"method\"] == \"sgd\":\n",
        "        opt = tf.keras.optimizers.SGD(learning_rate = optimizer[\"learning_rate\"], momentum=optimizer[\"momentum\"])\n",
        "    elif optimizer[\"method\"] == \"adam\":\n",
        "        opt = tf.keras.optimizers.Adam(learning_rate = optimizer[\"learning_rate\"])\n",
        "    else:\n",
        "        raise Exception(\"Optimizer method not supported\")\n",
        "\n",
        "    model.compile(optimizer=opt,\n",
        "                  loss=loss_fn,\n",
        "                  metrics=['accuracy'])\n",
        "    \n",
        "    if _verbose:\n",
        "        print(\"Model compiled\")"
      ]
    },
    {
      "cell_type": "markdown",
      "metadata": {
        "id": "nc66NhrugHsG"
      },
      "source": [
        "# Save Models and Info functions"
      ]
    },
    {
      "cell_type": "code",
      "execution_count": 41,
      "metadata": {
        "id": "1Vbu_AA6dhUU"
      },
      "outputs": [],
      "source": [
        "def save_model_info(model,optimizer,final_cross_validation_results,folds,metrics,outpath, fold_zerobased = None, smote_strategy = None):\n",
        "    info_filename = '/info.txt' if fold_zerobased is None else '/info_fold_'+str(fold_zerobased+1)+'.txt'\n",
        "    assert not (final_cross_validation_results and (fold_zerobased is not None))\n",
        "\n",
        "    with open(outpath + info_filename, \"w\") as f:\n",
        "        if not is_notebook():\n",
        "            f.write('Execution command:\\n')\n",
        "            f.write(\" \".join(sys_argv[:])+'\\n')\n",
        "        else:\n",
        "            f.write('Trained with the jupyter notebook (not the script version)\\n')\n",
        "        f.write(\"\\n\\n\")\n",
        "\n",
        "        if DO_OVERSAMPLING:\n",
        "            f.write(\"Oversampling (SMOTE) with aggressiveness: \"+str(OVERSAMPLING_AGGRESSIVENESS)+'\\n')\n",
        "            if smote_strategy is not None:\n",
        "                f.write(\"SMOTE strategy: \"+str(smote_strategy)+'\\n')\n",
        "            else:\n",
        "                f.write(\"SMOTE strategy: \"+str(SMOTE_STRATEGY)+')\\n')\n",
        "        else:\n",
        "            f.write('NOT performing Oversampling'+'\\n')\n",
        "\n",
        "        if USE_AUGMENTED_DATA:\n",
        "            f.write('Using augmented data'+'\\n')\n",
        "            f.write('Augmented audio file paths: ' + ','.join([os.path.basename(x) for x in augmented_data_paths])+'\\n')\n",
        "            f.write('Loaded '+str(len(augmented_featuredataset))+' augmented samples'+'\\n')\n",
        "            f.write('Used '+str(len(features_aug))+' augmented samples after filtering the dataset'+'\\n')\n",
        "\n",
        "            if fold_zerobased is not None:\n",
        "                f.write('Augmented data used in this fold: '+str(len(train_aug_indexes[fold_zerobased]))+'\\n')\n",
        "            else:\n",
        "                f.write('Augmented data used for all splits: \\n')\n",
        "                for split_idx in train_aug_indexes:\n",
        "                    f.write(str(len(train_aug_indexes[split_idx]))+'\\n')\n",
        "\n",
        "\n",
        "        f.write(\"\\n\\n\")\n",
        "\n",
        "        if fold_zerobased is not None:\n",
        "            f.write(\"FOLD [\"+str(fold_zerobased+1)+\"/\"+str(folds)+\"]\\n\\n\")\n",
        "        f.write(\"Summary:\\n\")\n",
        "        model.summary(print_fn=lambda x: f.write(x + '\\n'))\n",
        "        f.write(\"\\n\\n\")\n",
        "        f.write(\"+--| Features: \\n\")\n",
        "        f.write('Number of features selected: '+str(len(selected_features))+'\\n')\n",
        "        f.write('Selected features: '+str(selected_features)+'\\n')\n",
        "        f.write('Feature Selection method: '+str(FEATURE_SELECTION)+'\\n')\n",
        "        f.write(\"\\n\\n\")\n",
        "        f.write('Run arguments: '+str(args)+'\\n')\n",
        "        f.write(\"\\n\\n\")\n",
        "        f.write(\"Optimizer: \" + optimizer[\"method\"])\n",
        "        if optimizer[\"method\"] == \"sgd\":\n",
        "            f.write(\" lr: \" + str(optimizer[\"learning_rate\"]) + \" momentum: \" + str(optimizer[\"momentum\"]))\n",
        "        elif optimizer[\"method\"] == \"adam\":\n",
        "            f.write(\" lr: \" + str(optimizer[\"learning_rate\"]))\n",
        "        else:\n",
        "            assert(False) # If triggered check new optimizer and add case\n",
        "        f.write(\"\\n\\n\")\n",
        "        if final_cross_validation_results:\n",
        "            f.write(\"Trained for \" + str(args['epochs']) + \" epochs and with_batch size '\" + str(args['batchsize']) + \"'\" + \" epochs for each fold (\"+str(folds)+\"-foldCrossValidation)\\n\")\n",
        "            f.write(\"Single results in the folds directories\\n\")\n",
        "            f.write('\\n\\n-------- Average results --------\\n\\n')\n",
        "        else:\n",
        "            f.write(\"Trained for \" + str(args['epochs']) + \" epochs and with_batch size '\" + str(args['batchsize']) + \"'\" + \" epochs\\n\")\n",
        "\n",
        "            if fold_zerobased is not None:\n",
        "                f.write('(K-Fold cross validation run (fold '+str(fold_zerobased+1)+'/' +str(folds)+ '))\\n')\n",
        "            else:\n",
        "                f.write('(Single run, NO k-fold cross validation)\\n')\n",
        "\n",
        "        for metric in metrics.keys():\n",
        "            value = metrics[metric] if fold_zerobased is None else metrics[metric][fold_zerobased]\n",
        "            f.write(str(metric) + \":\\n\" + str(value) + \"\\n\\n\")\n",
        "        f.close()\n",
        "\n",
        "    # Copy Tensorboard Logs\n",
        "    if fold_zerobased == None and DO_SAVE_TENSORBOARD_LOGS:\n",
        "        LOGPATH=outpath+\"/tensorboardlogs\"\n",
        "        shutil.copytree('./logs', LOGPATH)\n",
        "\n",
        "    if not COLAB and fold_zerobased == None:\n",
        "        # Copy script or notebook depending on the execution environment\n",
        "        script_path = None\n",
        "        if is_notebook():\n",
        "            script_path = 'expressive-technique-classifier-phase3.ipynb'\n",
        "            pass #TODO: make this work\n",
        "        else:\n",
        "            script_path = os.path.realpath(__file__)\n",
        "        shutil.copyfile(script_path, os.path.join(outpath, 'backup_'+os.path.basename(script_path)))"
      ]
    },
    {
      "cell_type": "markdown",
      "metadata": {
        "id": "v0iA0sVlINRz"
      },
      "source": [
        "# Prepare Logs"
      ]
    },
    {
      "cell_type": "code",
      "execution_count": 42,
      "metadata": {
        "id": "VTVv1XlUOgBh"
      },
      "outputs": [],
      "source": [
        "if os.path.exists('./logs'):\n",
        "    shutil.rmtree('./logs', ignore_errors=True) #Clear logs if necessary"
      ]
    },
    {
      "cell_type": "code",
      "execution_count": 43,
      "metadata": {
        "id": "u2NMIioKEYyP"
      },
      "outputs": [],
      "source": [
        "def start_tensorboard(tb_dir,logname):\n",
        "    log_dir = tb_dir\n",
        "    if logname is not None: \n",
        "        log_dir += logname\n",
        "    return tf.keras.callbacks.TensorBoard(log_dir=log_dir, histogram_freq=1)\n",
        "tb_dir = \"logs/fit/\"\n",
        "# %tensorboard --logdir $tb_dir"
      ]
    },
    {
      "cell_type": "code",
      "execution_count": 44,
      "metadata": {
        "id": "MY1u63rqX7fn"
      },
      "outputs": [],
      "source": [
        "import matplotlib.pyplot as plt\n",
        "\n",
        "def plot_history(train_metric, validation_metric, title, xlabel, ylabel, filename=None, show = False):\n",
        "    fig, ax = plt.subplots(figsize=(5, 3))\n",
        "    ax.set_title(title)\n",
        "    ax.set_xlabel(xlabel)\n",
        "    ax.set_ylabel(ylabel)\n",
        "    ax.plot(train_metric)\n",
        "    ax.plot(validation_metric)\n",
        "    ax.legend(['Training','Validation'])\n",
        "    if show:\n",
        "        fig.show()\n",
        "    if filename is not None:\n",
        "        plt.savefig(filename+\".pdf\",bbox_inches='tight')"
      ]
    },
    {
      "cell_type": "markdown",
      "metadata": {
        "id": "qExZCK5ipvaa"
      },
      "source": [
        "F1-Score on Test dataset"
      ]
    },
    {
      "cell_type": "code",
      "execution_count": 45,
      "metadata": {
        "id": "5hBHvhH2punc"
      },
      "outputs": [],
      "source": [
        "def macroweighted_f1(y_true,y_pred):\n",
        "    f1scores = []\n",
        "    numSamples = []\n",
        "    for selclass in CLASSES:\n",
        "        classSelection = (y_true == (np.ones(np.shape(y_true)[0])*selclass))\n",
        "        numSamples.append(sum(classSelection))\n",
        "        classPrediction = (y_pred == (np.ones(np.shape(y_true)[0])*selclass))\n",
        "        true_positives = np.sum(np.logical_and(classSelection,(y_true == y_pred)))\n",
        "\n",
        "        precision = 1.0 * true_positives / np.sum(classPrediction)\n",
        "        recall = 1.0 * true_positives / np.sum(classSelection)\n",
        "        f1score = 2 /((1/precision)+(1/recall))\n",
        "        f1scores.append(f1score)\n",
        "    macroWeightedF1 = sum(np.array(f1scores) * np.array(numSamples)) / sum(numSamples)\n",
        "    return macroWeightedF1"
      ]
    },
    {
      "cell_type": "code",
      "execution_count": 46,
      "metadata": {
        "id": "4SQi2z0Hw2Km"
      },
      "outputs": [],
      "source": [
        "def compute_metrics(y_true, y_pred,_verbose = False):\n",
        "    accuracy = np.sum(y_pred == y_true)/np.shape(y_true)[0]\n",
        "    f1mw = macroweighted_f1(y_true,y_pred)\n",
        "    confusion_matrix = sk_conf_matrix(y_true, y_pred)\n",
        "    \n",
        "    assert len(y_true) == len(y_pred), 'The \"y_true\" and \"y_pred\" arrays have a different length' \n",
        "\n",
        "    assert len(np.unique(y_true)) >= len(np.unique(y_pred)) \n",
        "    assert np.isin(np.unique(y_pred),np.unique(y_true)).all(), 'Some classes in y_pred are not in y_true ('+str(np.setdiff1d(y_pred,y_true))+')'\n",
        "    \n",
        "    classification_report = sk_class_report(y_true, y_pred, digits=6,target_names = CLASSES_DESC.values(),output_dict=True)\n",
        "    printable_classification_report = sk_class_report(y_true, y_pred, digits=4,target_names = CLASSES_DESC.values())\n",
        "\n",
        "    if _verbose:\n",
        "        print(\"Test Accuracy: \" + str(accuracy) + \"\\nTest macro_weighted_avg f1-score: \" + str(f1mw)+'\\n'+str(confusion_matrix)+'\\n'+str(printable_classification_report))\n",
        "\n",
        "    return accuracy, f1mw, confusion_matrix, classification_report, printable_classification_report"
      ]
    },
    {
      "cell_type": "markdown",
      "metadata": {
        "id": "SEGBYnUF1vXn"
      },
      "source": [
        "# Prepare TFLite conversion and evaluation"
      ]
    },
    {
      "cell_type": "code",
      "execution_count": 47,
      "metadata": {
        "id": "uAvtjWCwxx1I"
      },
      "outputs": [],
      "source": [
        "# TFLite conversion function\n",
        "def convert2tflite(tf_model_dir,tflite_model_dir = None,model_name=\"model\",quantization=None,dataset=None):\n",
        "    assert (quantization==None or quantization==\"dynamic\" or quantization==\"float-fallback\" or quantization==\"full\")\n",
        "    # Convert the model saved in the previous step.\n",
        "    converter = tf.lite.TFLiteConverter.from_saved_model(tf_model_dir)\n",
        "    if quantization is not None:\n",
        "        converter.optimizations = [tf.lite.Optimize.DEFAULT]\n",
        "        if quantization == \"full\" or quantization==\"float-fallback\":\n",
        "            assert dataset is not None\n",
        "            def representative_dataset():\n",
        "                for data in tf.data.Dataset.from_tensor_slices((dataset)).batch(1).take(100):\n",
        "                    yield [tf.dtypes.cast(data, tf.float32)]\n",
        "            converter.representative_dataset = representative_dataset\n",
        "        if quantization == \"full\":\n",
        "            converter.target_spec.supported_ops = [tf.lite.OpsSet.TFLITE_BUILTINS_INT8]\n",
        "            converter.inference_input_type = tf.int8  # or tf.uint8\n",
        "            converter.inference_output_type = tf.int8  # or tf.uint8\n",
        "        if quantization == \"dynamic\":\n",
        "            assert dataset is None\n",
        "\n",
        "    tflite_model = converter.convert()\n",
        "\n",
        "    # Save the TF Lite model.\n",
        "    if tflite_model_dir is None:\n",
        "        TF_MODEL_PATH = tf_model_dir + \"/\" + model_name + '.tflite'\n",
        "    else:\n",
        "        TF_MODEL_PATH = tflite_model_dir + \"/\" + model_name + '.tflite'\n",
        "\n",
        "    with tf.io.gfile.GFile(TF_MODEL_PATH, 'wb') as f:\n",
        "        f.write(tflite_model)\n",
        "\n",
        "## USAGE\n",
        "# model_path = MODELFOLDER + \"/\" + RUN_NAME + \"/fold_1\"\n",
        "# convert2tflite(model_path)"
      ]
    },
    {
      "cell_type": "code",
      "execution_count": 48,
      "metadata": {
        "id": "M6wGuSE91syp"
      },
      "outputs": [],
      "source": [
        "def test_tflite_model(model_path,X_test,y_test,first_layer_is_conv,verbose_test = False):\n",
        "    tflite_interpreter = tf.lite.Interpreter(model_path=model_path)\n",
        "    input_details = tflite_interpreter.get_input_details()[0]\n",
        "    output_details = tflite_interpreter.get_output_details()[0]\n",
        "    \n",
        "    if verbose_test:\n",
        "        print(\"+--------------------------------------------+\\n| Testing the TF lite model saved            |\\n+--------------------------------------------+\\n\")\n",
        "        print(\"[Model loaded]\\n\")\n",
        "        print(\"\\n== Input details ==\\nname:\"+ str(input_details['name']) + \"\\nshape:\"+str(input_details['shape']) +  \"\\ntype:\"+str(input_details['dtype']))\n",
        "        print(\"\\n== Output details ==\\nname:\"+str(output_details['name']) + \"\\nshape:\"+str(output_details['shape']) + \"\\ntype:\"+str(output_details['dtype']))\n",
        "        print(\"+--------------------------------------------+\\n| Testing on TEST set...                     |\\n+--------------------------------------------+\\n\")\n",
        "    \n",
        "    tflite_interpreter.allocate_tensors()\n",
        "    y_pred = list()\n",
        "    for i in range(X_test.shape[0]):\n",
        "        extracted_test_sample = np.array(X_test[i:i+1]).astype(np.float32)\n",
        "        \n",
        "        # Quantize inputs if necessary (full uint model)\n",
        "        if input_details['dtype'] is np.int8:\n",
        "            input_scale, input_zero_point = input_details[\"quantization\"]\n",
        "            extracted_test_sample = (extracted_test_sample / input_scale + input_zero_point).astype(np.int8)\n",
        "\n",
        "        if first_layer_is_conv:\n",
        "            input_tensor = np.expand_dims(extracted_test_sample,axis=2).astype(input_details[\"dtype\"])\n",
        "        else:\n",
        "            input_tensor = extracted_test_sample\n",
        "\n",
        "        if verbose_test:\n",
        "            print(\"Setting \"+str(input_tensor.shape)+\" \"+str(input_tensor.dtype)+\" as input\")\n",
        "\n",
        "        tflite_interpreter.set_tensor(input_details['index'], input_tensor)\n",
        "        tflite_interpreter.invoke()\n",
        "        prediction_vec = tflite_interpreter.get_tensor(output_details['index'])\n",
        "\n",
        "        if verbose_test:\n",
        "            print(\"Getting \"+str(prediction_vec.shape)+\" \"+str(prediction_vec.dtype)+\" as output\")\n",
        "\n",
        "        if output_details['dtype'] is np.int8:\n",
        "            output_scale, output_zero_point = output_details[\"quantization\"]\n",
        "            prediction_vec = (prediction_vec + output_zero_point) * output_scale\n",
        "\n",
        "        if verbose_test:\n",
        "            print(prediction_vec)\n",
        "        y_pred.append(np.argmax(prediction_vec))\n",
        "    return y_pred\n",
        "\n",
        "def test_regulartf_model(model_path,X_test,y_test,first_layer_is_conv,verbose_test = False):\n",
        "    imported = tf.keras.models.load_model(model_path)\n",
        "    if first_layer_is_conv:\n",
        "        test_set = np.expand_dims(X_test,axis=2)\n",
        "    else:\n",
        "        test_set = X_test\n",
        "    _, accuracy = imported.evaluate(test_set,  y_test, verbose=2)\n",
        "    return accuracy"
      ]
    },
    {
      "cell_type": "markdown",
      "metadata": {
        "id": "FkPVrRtLoxvu"
      },
      "source": [
        "# k-Fold Cross Validation\n"
      ]
    },
    {
      "cell_type": "code",
      "execution_count": 49,
      "metadata": {
        "id": "ISgdGWqRFkMt"
      },
      "outputs": [
        {
          "name": "stdout",
          "output_type": "stream",
          "text": [
            "Using training epochs:  10\n",
            "Using batch size:  1024\n"
          ]
        }
      ],
      "source": [
        "# --> Epochs / Batches\n",
        "print('Using training epochs: ', args['epochs'])\n",
        "print('Using batch size: ', args['batchsize'])\n",
        "\n",
        "# --> Quantize (Dynamic) and test the TF Lite model obtained (quicker but lower accuracy)\n",
        "TEST_QUANTIZATION = False\n",
        "# --> Early Stopping\n",
        "use_early_stopping = False\n",
        "\n",
        "# --> OVERSAMPLING ################################################\n",
        "DO_OVERSAMPLING = args['oversampling']                            #\n",
        "OVERSAMPLING_AGGRESSIVENESS = args['oversampling_aggressiveness'] #\n",
        "VERBOSE_OVERSAMPLING = False                                      #\n",
        "SMOTE_STRATEGY = {} # Do not set this variable\n",
        "###################################################################\n",
        "\n",
        "# --> KFOLD RUN #################################################\n",
        "K_SPLITS = args['k_folds']\n",
        "USE_CROSS_VALIDATION = K_SPLITS > 1 # Activate K-Fold Cross Validation only if K_SPLITS > 1\n",
        "VAL_SPLIT_SIZE = 0.1                                            # percentage of total entries going into the validation set\n",
        "# TODO: this is something to fix.\n",
        "# For the custom splitter that keeps guitarists separate, there\n",
        "# is the need to take the validation set from the test and not \n",
        "# the train set. To do this we now have two percentages.\n",
        "# TODO: change all code to always take the validation percentage\n",
        "# from the test set, so that there can be a single percentage \n",
        "# constant.\n",
        "VAL_SPLIT_SIZE_TESTPERC = 0.4                                   # percentage of test entries going into the validation set\n",
        "random_state = global_random_state                              # seed for pseudo random generator\n",
        "#################################################################\n",
        "\n",
        "# --> SINGLE RUN ################################################\n",
        "SAVE_MODEL_INFO = True                                          #\n",
        "test_split_size = 0.2                                           #\n",
        "#################################################################\n",
        "\n",
        "DO_TEST = False\n",
        "\n",
        "# optimizer = { \"method\" : \"sgd\", \"learning_rate\" : args['learning_rate'], \"momentum\" : 0.7 }\n",
        "optimizer = { \"method\" : \"adam\", \"learning_rate\" : args['learning_rate'] }"
      ]
    },
    {
      "cell_type": "code",
      "execution_count": 50,
      "metadata": {
        "id": "kGkWC3hVoiz-"
      },
      "outputs": [
        {
          "name": "stdout",
          "output_type": "stream",
          "text": [
            "6 players in the dataset\n",
            "1 - Player \"DavRos\" \thas 120 note entries   0:  30  \t1:  30  \t2:  30  \t3:  30  \t\n",
            "2 - Player \"DomSte\" \thas 115 note entries   0:  29  \t1:  29  \t2:  27  \t3:  30  \t\n",
            "3 - Player \"GiaFer\" \thas 109 note entries   0:  20  \t1:  29  \t2:  30  \t3:  30  \t\n",
            "4 - Player \"LucFra\" \thas 119 note entries   0:  30  \t1:  30  \t2:  29  \t3:  30  \t\n",
            "5 - Player \"LucTur\" \thas 117 note entries   0:  27  \t1:  30  \t2:  30  \t3:  30  \t\n",
            "6 - Player \"LucTur2\" \thas 1040 note entries   0: 267  \t1: 211  \t2: 262  \t3: 300  \t\n",
            "__________________________________________________________________________________________________________________________________________________________________________\n",
            "                                          Tot:  0: 403  \t1: 359  \t2: 408  \t3: 450  \t\n"
          ]
        }
      ],
      "source": [
        "def player_stats(metadata,exclude_extra_500 = False):\n",
        "    # metadata = metadata[metadata['meta_audiofilePath'].str.contains('500')]\n",
        "    if exclude_extra_500:\n",
        "        metadata = metadata[~metadata['meta_audiofilePath'].str.contains('500')]\n",
        "    players_meta_list = [re.findall('[A-Z][a-z][a-z][A-Z][a-z][a-z][0-2]?',el) for el in metadata['meta_audiofilePath']]\n",
        "    players_meta_list = [el[0] for el in players_meta_list]\n",
        "    players = np.unique(players_meta_list).tolist()\n",
        "\n",
        "    print(len(players),'players in the dataset')\n",
        "\n",
        "    for pix, p in enumerate(players):\n",
        "        print(str(pix+1)+' - Player \"'+p+'\" \\thas '+str(players_meta_list.count(p))+' note entries',end='')\n",
        "\n",
        "        # p_records = [el for el in metadata if '_'+p+'_' in metadata['meta_audiofilePath']]\n",
        "\n",
        "        p_records = metadata[metadata['meta_audiofilePath'].str.contains('_'+p+'_')]\n",
        "        assert len(p_records) == players_meta_list.count(p)\n",
        "        count_for_each_tech = p_records.groupby(\"meta_expressive_technique_id\")[\"meta_audiofilePath\"].count().to_dict()\n",
        "        print('  ',''.join([str(a)+':'+(' '*(4-len(str(b))))+str(b)+'  \\t' for a,b in count_for_each_tech.items()]))\n",
        "\n",
        "    tot_count_for_each_tech = metadata.groupby(\"meta_expressive_technique_id\")[\"meta_audiofilePath\"].count().to_dict()\n",
        "    print('_'*170)\n",
        "    print('                                          Tot: ',''.join([str(a)+':'+(' '*(4-len(str(b))))+str(b)+'  \\t' for a,b in tot_count_for_each_tech.items()]))\n",
        "\n",
        "player_stats(dataset_metadata)"
      ]
    },
    {
      "cell_type": "code",
      "execution_count": 51,
      "metadata": {
        "id": "wxfTUtYgg_nO"
      },
      "outputs": [],
      "source": [
        "class CustomPlayerFold():\n",
        "    def __init__(self, metadata: pd.DataFrame, features: pd.DataFrame, labels: pd.DataFrame, _val_split_size: float):\n",
        "        self.val_split_size = _val_split_size\n",
        "        self.metadata = metadata.copy()\n",
        "        self.features = features.copy()\n",
        "        self.labels = labels.copy()\n",
        "\n",
        "        assert self.metadata.shape[0] == self.features.shape[0] , str(self.metadata.shape[0]) + '!=' + str(self.features.shape[0]) \n",
        "        assert self.metadata.shape[0] == self.labels.shape[0] , str(self.metadata.shape[0]) + '!=' + str(self.labels.shape[0]) \n",
        "        assert np.max(self.metadata.index) == len(self.metadata.index)-1, 'np.max(self.metadata.index) == len(self.metadata.index)-1 ('+str(np.max(self.metadata.index))+'!='+str(len(self.metadata.index)-1)+')'\n",
        "        assert np.max(self.features.index) == len(self.features.index)-1, 'np.max(self.features.index) == len(self.features.index)-1 ('+str(np.max(self.features.index))+'!='+str(len(self.features.index)-1)+')'\n",
        "        assert np.max(self.labels.index) == len(self.labels.index)-1, 'np.max(self.labels.index) == len(self.labels.index)-1 ('+str(np.max(self.labels.index))+'!='+str(len(self.labels.index)-1)+')'\n",
        "\n",
        "        players_meta_list = [re.findall('[A-Z][a-z][a-z][A-Z][a-z][a-z][0-2]?',el)[0] for el in metadata['meta_audiofilePath']]\n",
        "        self.players = np.unique(players_meta_list).tolist()\n",
        "        self.k_splits = len(self.players)\n",
        "\n",
        "        # player_stats(metadata)\n",
        "\n",
        "    def get_k_splits(self,):\n",
        "        return self.k_splits\n",
        "\n",
        "    def split(self,_X,_y):\n",
        "        res = []\n",
        "\n",
        "        assert (_X == self.features.to_numpy()).all()\n",
        "        assert (_y == self.labels.to_numpy()).all()\n",
        "\n",
        "        for player in self.players:\n",
        "            p_records = self.metadata[self.metadata['meta_audiofilePath'].str.contains('_'+player+'_')]\n",
        "            not_p_records = self.metadata[~self.metadata['meta_audiofilePath'].str.contains('_'+player+'_')]\n",
        "\n",
        "            train_idx = not_p_records.index.values\n",
        "            test_idx = p_records.index.values\n",
        "\n",
        "            # print('test_idx',test_idx)\n",
        "            # print('len(test_idx)',len(test_idx))\n",
        "\n",
        "            stratify_labels = p_records['meta_expressive_technique_id'].tolist()\n",
        "            \n",
        "            # In this case, we want to take the validation split from the TEST split,\n",
        "            # unlike all the other cases where we take it from the test set.\n",
        "            # This is because we want the validation results to highlight GENERALIZATION.\n",
        "            # So we split the test and validation indexes here\n",
        "\n",
        "            # To keep things somewhat consistent, we take 'val_split_size', which is supposed to be a percentage of the train set, and convert it so that it is the same number of samples, when extracted from the test set\n",
        "            # new_valsplit_perc = self.val_split_size * len(train_idx) / len(test_idx)\n",
        "            # print('val_split_size:',self.val_split_size)\n",
        "            # print('len(train_idx):',len(train_idx))\n",
        "            # print('len(test_idx):', len(test_idx))\n",
        "            # assert new_valsplit_perc <= 1.0, 'new_valsplit_perc > 1.0 ('+str(new_valsplit_perc)+')'\n",
        "            # assert new_valsplit_perc >= 0.0, 'new_valsplit_perc < 0.0 ('+str(new_valsplit_perc)+')'\n",
        "\n",
        "            test_idx,val_idx = train_test_split(test_idx,test_size=self.val_split_size,random_state=random_state, shuffle=True, stratify = stratify_labels)\n",
        "\n",
        "            # print('len(val_idx)/(len(val_idx)+len(test_idx))',len(val_idx)/(len(val_idx)+len(test_idx)))\n",
        "            # print()\n",
        "\n",
        "            # print('len(val_idx)',len(val_idx))\n",
        "            # print('len(test_idx)',len(test_idx))\n",
        "            \n",
        "            # print()\n",
        "            # print()\n",
        "\n",
        "\n",
        "            assert type(train_idx) == type(val_idx) == type(test_idx)\n",
        "            assert np.all(train_idx < len(self.labels))\n",
        "            assert np.all(val_idx < len(self.labels))\n",
        "            assert np.all(test_idx < len(self.labels))\n",
        "            assert np.array_equal(np.unique(train_idx),sorted(train_idx))\n",
        "            assert np.array_equal(np.unique(test_idx),sorted(test_idx))\n",
        "            assert np.array_equal(np.unique(val_idx),sorted(val_idx))\n",
        "\n",
        "            res.append((train_idx,test_idx,val_idx))\n",
        "\n",
        "            players_intest = np.unique([re.findall(r'_([A-Z][a-z][a-z][A-Z][a-z][a-z][0-9]?)_',dat) for dat in self.metadata.iloc[test_idx]['meta_audiofilePath'].tolist()])\n",
        "            assert len(players_intest) == 1, 'There should be only one player in the test set. Instead, there are '+str(len(players_intest))+' players in the test set: '+str(players_intest)\n",
        "\n",
        "        return res"
      ]
    },
    {
      "cell_type": "code",
      "execution_count": 52,
      "metadata": {
        "id": "G1hUwlybmgEE"
      },
      "outputs": [],
      "source": [
        "def oversample(features: list, labels: list, aggressiveness = 1, verbose: bool = False):\n",
        "    if verbose:\n",
        "        print(\"Oversampling...\")\n",
        "    import warnings\n",
        "    with warnings.catch_warnings():\n",
        "        warnings.simplefilter(\"ignore\")\n",
        "\n",
        "        unique, counts = np.unique(labels, return_counts=True)\n",
        "        target_count = int(round(max(counts) * aggressiveness,0))\n",
        "        sampling_strategy = dict(zip(unique, counts))\n",
        "        sampling_strategy = {k:(v if v > target_count else target_count) for k,v in sampling_strategy.items()}\n",
        "        smote_strategy = sampling_strategy\n",
        "\n",
        "        print('sampling_strategy:',sampling_strategy)\n",
        "\n",
        "        ovs_features, ovs_labels = imblearn.over_sampling.SMOTE(sampling_strategy=sampling_strategy).fit_resample(features, labels)\n",
        "\n",
        "        if verbose:\n",
        "            print(\"Increased training samples from \" + str(features.shape[0]) + \" to \" + str(ovs_features.shape[0]))\n",
        "            printSupport(ovs_labels)\n",
        "    return ovs_features, ovs_labels, smote_strategy"
      ]
    },
    {
      "cell_type": "code",
      "execution_count": 53,
      "metadata": {
        "id": "hy9WiiwEpHXf",
        "scrolled": true
      },
      "outputs": [
        {
          "name": "stdout",
          "output_type": "stream",
          "text": [
            "Warning! Using custom K-Fold, which splits the dataset in the data from different players.\n",
            "as a result, the number of folds has been OVERWRITTEN and is now  6\n"
          ]
        }
      ],
      "source": [
        "prefix = \"CrossValidated\" if USE_CROSS_VALIDATION else \"Single\"\n",
        "RUN_NAME = prefix + \"Run_\"+strftime(\"%Y%m%d-%H%M%S\")\n",
        "\n",
        "if CUSTOM_PLAYER_K_FOLD:\n",
        "    print('Warning! Using custom K-Fold, which splits the dataset in the data from different players.')\n",
        "    cv = CustomPlayerFold(dataset_metadata,dataset_features,dataset_labels,_val_split_size=VAL_SPLIT_SIZE_TESTPERC)\n",
        "    K_SPLITS = cv.get_k_splits()\n",
        "    print('as a result, the number of folds has been OVERWRITTEN and is now ',K_SPLITS)\n",
        "\n",
        "else:\n",
        "    cv = StratifiedKFold(n_splits=K_SPLITS,shuffle=True,random_state=random_state)\n",
        "\n",
        "def main_routine(X,y,train_idx=None,test_idx=None,val_idx=None,_val_split_size=None,aug_data=None,foldcount=None,is_k_fold=False, eval_metrics=None, quantized_eval_metrics=None):\n",
        "    assert np.equal(np.sort(CLASSES),np.unique(y)).all(), 'np.sort(CLASSES) != np.unique(y)  ('+np.sort(CLASSES)+'!='+np.unique(y)+')'\n",
        "\n",
        "    np.random.shuffle(train_idx)   #TODO: remove if this turns out to be useless\n",
        "    np.random.shuffle(test_idx)    #TODO: remove if this turns out to be useless\n",
        "    np.random.shuffle(val_idx) #TODO: remove if this turns out to be useless\n",
        "    \n",
        "    if eval_metrics is None:\n",
        "        raise ValueError(\"provide a eval_metrics dict\")\n",
        "\n",
        "    current_dir = MODELFOLDER + \"/\" + RUN_NAME\n",
        "    # %mkdir -p \"$current_dir\"\n",
        "    os.makedirs(current_dir,exist_ok = True) \n",
        "    if is_k_fold:\n",
        "        fold_dir = current_dir + '/Fold_' + str(foldcount)\n",
        "        # %mkdir -p \"$fold_dir\"\n",
        "        os.makedirs(fold_dir,exist_ok = True)\n",
        "\n",
        "    ### PRINT INFO\n",
        "    if is_k_fold:\n",
        "        print(\"\\nFold [\"+str(foldcount)+\"/\"+str(K_SPLITS)+\"]\")\n",
        "        #### SPLIT DATA\n",
        "        print(\"Selecting Split Data...\")\n",
        "        X_train, y_train = X[train_idx], y[train_idx]\n",
        "        X_test, y_test = X[test_idx], y[test_idx]\n",
        "        # printSupport(y_train)                                                       # Verify that the split is STRATIFIED\n",
        "    else:\n",
        "        X_train,X_test,y_train,y_test = train_test_split(X,y,test_size=test_split_size,random_state=random_state, shuffle=True, stratify = y)\n",
        "        # printSupport(y_train)                                                       # Verify that the split is STRATIFIED\n",
        "\n",
        "    if val_idx is None:\n",
        "        print('Performing generic validation/train split from training split')    \n",
        "        X_train,X_valid,y_train,y_valid = train_test_split(X_train,y_train,test_size=_val_split_size,random_state=random_state, shuffle=True, stratify = y_train)\n",
        "        # printSupport(y_train)                                                       # Verify that the split is STRATIFIED\n",
        "    else:\n",
        "        print('Taking validation split from provided indexes')    \n",
        "        X_valid, y_valid = X[val_idx], y[val_idx]\n",
        "        # printSupport(y_valid)                                                       # Verify that the split is STRATIFIED\n",
        "\n",
        "    ### OVERSAMPLE\n",
        "    if VERBOSE_OVERSAMPLING:\n",
        "        if DO_OVERSAMPLING:\n",
        "            print(\"Oversampling...\")\n",
        "        else:\n",
        "            print('NOT performing oversampling')\n",
        "    if DO_OVERSAMPLING:\n",
        "        # VERBOSE_OVERSAMPLING = True\n",
        "        # with warnings.catch_warnings():\n",
        "        #     warnings.simplefilter(\"ignore\")\n",
        "        #     if VERBOSE_OVERSAMPLING:\n",
        "        #         prev_len = y_train.shape[0]\n",
        "        #     X_train, y_train = SMOTE(smote_mask).fit_sample(X_train, y_train)\n",
        "        #     if VERBOSE_OVERSAMPLING:\n",
        "        #         print(\"Increased training samples from \" + str(prev_len) + \" to \" + str(y_train.shape[0]))\n",
        "        #         printSupport(y_train)\n",
        "\n",
        "        X_train, y_train, smote_strategy = oversample(X_train, y_train, aggressiveness = OVERSAMPLING_AGGRESSIVENESS, verbose = VERBOSE_OVERSAMPLING)\n",
        "\n",
        "    ### ADD AUGMENTED DATA\n",
        "    assert not USE_AUGMENTED_DATA or (aug_data != None), 'USE_AUGMENTED_DATA should imply that aug_data is not None, however this is not the case'\n",
        "\n",
        "    if USE_AUGMENTED_DATA:\n",
        "        (metadata_aug, features_aug, labels_aug, train_aug_idx) = aug_data\n",
        "        X_train_aug, y_train_aug = features_aug.to_numpy()[train_aug_idx], labels_aug.to_numpy()[train_aug_idx]\n",
        "        print('Adding augmented data to training set...')\n",
        "        print('Length of training set before augmentation: ',len(X_train))\n",
        "        X_train = np.concatenate((X_train,X_train_aug),axis=0)\n",
        "        y_train = np.concatenate((y_train,y_train_aug),axis=0)\n",
        "        print('Length of training set after augmentation: ',len(X_train))\n",
        "        \n",
        "\n",
        "    ### DEFINE MODEL\n",
        "    model = define_model_architecture(len(CLASSES),_verbose = True)\n",
        "    \n",
        "    ### DEFINE LOSS\n",
        "    loss_fn = get_loss()\n",
        "\n",
        "    ### PREPARE DATA IN CASE OF A FIRST CONV LAYER IN THE NET\n",
        "    if type(model.layers[0]) == tf.keras.layers.Conv1D:\n",
        "        X_train = np.expand_dims(X_train,axis = 2) # Adapt data for Conv1d ([batch_shape, steps, input_dim] -> in our case indim = 1, steps = features, batchshape = train datset size)\n",
        "        X_valid= np.expand_dims(X_valid,axis = 2)  # Adapt data for Conv1d\n",
        "        X_test= np.expand_dims(X_test,axis = 2)    # Adapt data for Conv1d\n",
        "\n",
        "    ### PERFORM TEST (**OPTIONAL)\n",
        "    if DO_TEST:\n",
        "        predictions = model(X_test[:1].astype('float32')).numpy()\n",
        "        print(\"Predictions: \" + str(predictions) + \"\\nWith Softmax: \" + str(tf.nn.softmax(predictions).numpy()) + \"\\nLoss: \" + str(loss_fn(y_test[:1], predictions).numpy()))\n",
        "\n",
        "    ### COMPILE MODEL\n",
        "    compile_model(model,optimizer,loss_fn,_verbose = True)\n",
        "\n",
        "    ### SETUP TENSORBOARD\n",
        "    tensorboard_callback = start_tensorboard(tb_dir,\"Fold_\"+str(foldcount) if is_k_fold else None)\n",
        "    callbacks=[tensorboard_callback,]\n",
        "    \n",
        "    ### SETUP EARLY STOPPING (only if not in K-fold mode)\n",
        "    if is_k_fold is False and use_early_stopping:\n",
        "        callbacks.append(tf.keras.callbacks.EarlyStopping(monitor='val_loss', mode='min', verbose=1, patience=200))\n",
        "\n",
        "    # * FIT MODEL *\n",
        "    history = model.fit(X_train, y_train, epochs=args['epochs'], validation_data = (X_valid,y_valid),\n",
        "                        callbacks=callbacks,\n",
        "                        batch_size=args['batchsize'])\n",
        "    # Plot history\n",
        "    plot_folder = fold_dir if is_k_fold else current_dir\n",
        "    getval = lambda metric: history.history[metric]\n",
        "    plot_history(getval('accuracy'),getval('val_accuracy'), \"Training and validation accuracy\",\"Epochs\",\"Accuracy\", filename = plot_folder + \"/AccuracyPlot\")\n",
        "    plot_history(getval('loss'),    getval('val_loss'),     \"Training and validation loss\",\"Epochs\",\"Accuracy\",     filename = plot_folder + \"/LossPlot\")\n",
        "    plt.close()\n",
        "    plt.ioff()\n",
        "\n",
        "    # * TEST MODEL *\n",
        "    # keras_test_loss, keras_test_accuracy = model.evaluate(X_test,  y_test, verbose=2) # Keras solution, might not be needed\n",
        "    y_true = np.squeeze(y_test)\n",
        "    y_pred = np.argmax(model(X_test),axis=1)\n",
        "    cm_acc, f1mw, cm_conf_matrix, cm_classf_report, cm_printable_classf_report = compute_metrics(y_true, \\\n",
        "                                                                                                 y_pred, \\\n",
        "                                                                                                 _verbose=True)\n",
        "    eval_metrics[\"accuracy\"].append(cm_acc)\n",
        "    eval_metrics[\"f1_weightedmacroavg\"].append(f1mw)\n",
        "    eval_metrics[\"confusion_matrix\"].append(cm_conf_matrix)\n",
        "    eval_metrics[\"classification_report\"].append(cm_classf_report)\n",
        "    eval_metrics[\"printable_classification_report\"].append(cm_printable_classf_report)\n",
        "\n",
        "    SAVED_MODEL_PATH = None\n",
        "    if is_k_fold:\n",
        "        # Save fold history\n",
        "        with open(fold_dir+\"/history_fold_\"+str(foldcount)+\".pickle\",'wb') as picklefile:\n",
        "            pickle.dump(history.history,picklefile)\n",
        "\n",
        "        # Save the fold models only if we want them, or need them to test (in the second case they will be deleted after test)        \n",
        "        if TEST_QUANTIZATION or DO_SAVE_FOLD_MODELS:\n",
        "            model.save(fold_dir)\n",
        "            SAVED_MODEL_PATH = fold_dir\n",
        "    else:\n",
        "        assert len(eval_metrics['accuracy']) == 1\n",
        "        \n",
        "        # Save the entire model as a SavedModel.\n",
        "        if TEST_QUANTIZATION or DO_SAVE_FOLD_MODELS:\n",
        "            model.save(current_dir)\n",
        "            SAVED_MODEL_PATH = current_dir\n",
        "        with open(current_dir+\"/history.pickle\",'wb') as picklefile:\n",
        "            pickle.dump(history.history,picklefile)\n",
        "\n",
        "    if TEST_QUANTIZATION:\n",
        "        assert quantized_eval_metrics is not None\n",
        "        model_filename = 'partially_quantized_test_model'\n",
        "        # Convert and save lite model\n",
        "        convert2tflite(SAVED_MODEL_PATH,model_name=model_filename,quantization=\"dynamic\")\n",
        "        # Load and Test lite model\n",
        "        y_quant_pred = test_tflite_model(SAVED_MODEL_PATH+'/'+model_filename+'.tflite',X_test,y_test,type(model.layers[0]) == tf.keras.layers.Conv1D,verbose_test = False)\n",
        "        # Compute Test Metrics\n",
        "        cm_acc, f1mw, cm_conf_matrix, cm_classf_report, cm_printable_classf_report = compute_metrics(y_true, \\\n",
        "                                                                                                     y_quant_pred, \\\n",
        "                                                                                                     _verbose=True)\n",
        "        quantized_eval_metrics[\"accuracy\"].append(cm_acc)\n",
        "        quantized_eval_metrics[\"f1_weightedmacroavg\"].append(f1mw)\n",
        "        quantized_eval_metrics[\"confusion_matrix\"].append(cm_conf_matrix)\n",
        "        quantized_eval_metrics[\"classification_report\"].append(cm_classf_report)\n",
        "        quantized_eval_metrics[\"printable_classification_report\"].append(cm_printable_classf_report)\n",
        "\n",
        "    if not DO_SAVE_FOLD_MODELS:\n",
        "        if os.path.exists(os.path.join(fold_dir,'assets')):\n",
        "            shutil.rmtree(os.path.join(fold_dir,'assets'))\n",
        "        if os.path.exists(os.path.join(fold_dir,'variables')):\n",
        "            shutil.rmtree(os.path.join(fold_dir,'variables'))\n",
        "        if os.path.exists(os.path.join(fold_dir,'savedmodel.pb')):\n",
        "            os.remove(os.path.join(fold_dir,'savedmodel.pb'))\n",
        "        if os.path.exists(os.path.join(fold_dir,'keras_metadata.pb')):\n",
        "            os.remove(os.path.join(fold_dir,'keras_metadata.pb'))\n",
        "        if TEST_QUANTIZATION and os.path.exists(os.path.join(fold_dir,'partially_quantized_test_model.tflite')):\n",
        "            os.remove(os.path.join(fold_dir,'partially_quantized_test_model.tflite'))\n",
        "\n",
        "    # Now that all the tests are performed, all the info can be saved\n",
        "\n",
        "    if is_k_fold:\n",
        "        metrics_to_save = {}\n",
        "        metrics_to_save.update({'def_model_'+key:value for (key,value) in eval_metrics.items()})\n",
        "        if TEST_QUANTIZATION:\n",
        "            metrics_to_save.update({'quant_model_'+key:value for (key,value) in quantized_eval_metrics.items()})\n",
        "\n",
        "        # save_fold_info(model,optimizer,foldcount,K_SPLITS,X_test.shape[0],eval_metrics,list(dataset_features.columns),fold_dir)\n",
        "        save_model_info(model,\n",
        "                        optimizer,\n",
        "                        False,K_SPLITS,\n",
        "                        metrics_to_save,\n",
        "                        fold_dir,\n",
        "                        fold_zerobased=foldcount-1,\n",
        "                        smote_strategy = smote_strategy)\n",
        "\n",
        "    SMOTE_STRATEGY = smote_strategy\n",
        "\n",
        "    return model"
      ]
    },
    {
      "cell_type": "code",
      "execution_count": 54,
      "metadata": {
        "id": "dwKI-vRUdDs0"
      },
      "outputs": [
        {
          "data": {
            "text/html": [
              "\n",
              "      <iframe id=\"tensorboard-frame-53fb0775db5c587a\" width=\"100%\" height=\"800\" frameborder=\"0\">\n",
              "      </iframe>\n",
              "      <script>\n",
              "        (function() {\n",
              "          const frame = document.getElementById(\"tensorboard-frame-53fb0775db5c587a\");\n",
              "          const url = new URL(\"/\", window.location);\n",
              "          const port = 6006;\n",
              "          if (port) {\n",
              "            url.port = port;\n",
              "          }\n",
              "          frame.src = url;\n",
              "        })();\n",
              "      </script>\n",
              "    "
            ],
            "text/plain": [
              "<IPython.core.display.HTML object>"
            ]
          },
          "metadata": {},
          "output_type": "display_data"
        }
      ],
      "source": [
        "%tensorboard --logdir $tb_dir"
      ]
    },
    {
      "cell_type": "code",
      "execution_count": 55,
      "metadata": {},
      "outputs": [],
      "source": [
        "# for split_idx, (train_idx, test_idx, val_idx) in enumerate(cv.split(dataset_features.to_numpy(), dataset_labels.to_numpy())):\n",
        "#     if USE_AUGMENTED_DATA:\n",
        "#         # Here we want to select the augmented data that corresponds to the current training split\n",
        "#         training_metadata = metadata.iloc[train_idx]\n",
        "#         training_aug_indices = []\n",
        "        \n",
        "#         sources_and_times_aug = metadata_aug[['meta_augmentation_source','meta_onsetGroundTruthLabelTime']].values\n",
        "#         training_sources_and_times = {tuple(k):True for k in training_metadata[['meta_audiofilePath','meta_onsetGroundTruthLabelTime']].values}\n",
        "\n",
        "#         for idx, (source_aug, time_aug) in enumerate(sources_and_times_aug):\n",
        "#             if((source_aug,time_aug) in training_sources_and_times.keys()):\n",
        "#                 training_aug_indices.append(idx)\n",
        "                \n",
        "# Faster code\n",
        "# for split_idx, (train_idx, test_idx, val_idx) in enumerate(cv.split(dataset_features.to_numpy(), dataset_labels.to_numpy())):\n",
        "#     training_aug_indices = []\n",
        "#     if USE_AUGMENTED_DATA:\n",
        "#         # Here we want to select the augmented data that corresponds to the current training split\n",
        "#         training_metadata = metadata.iloc[train_idx]\n",
        "#         training_sources_and_times = {tuple(k):True for k in training_metadata[['meta_audiofilePath','meta_onsetGroundTruthLabelTime']].values}\n",
        "\n",
        "#         for idx,source_aug,time_aug in  metadata_aug[['meta_augmentation_source','meta_onsetGroundTruthLabelTime']].itertuples():\n",
        "#             if((source_aug,time_aug) in training_sources_and_times.keys()):\n",
        "#                 training_aug_indices.append(idx)"
      ]
    },
    {
      "cell_type": "code",
      "execution_count": 56,
      "metadata": {
        "id": "orQZbq4df5jK"
      },
      "outputs": [
        {
          "name": "stdout",
          "output_type": "stream",
          "text": [
            "Selecting augmented data for fold 0 ...\n",
            "Found 5801 augmented samples for fold 0\n",
            "\n",
            "Fold [1/6]\n",
            "Selecting Split Data...\n",
            "Taking validation split from provided indexes\n",
            "sampling_strategy: {0: 373, 1: 329, 2: 378, 3: 420}\n",
            "Adding augmented data to training set...\n",
            "Length of training set before augmentation:  1500\n",
            "Length of training set after augmentation:  7301\n",
            "Created model: 'guitar_timbre_classifier_20221129-192409'\n",
            "Model compiled\n",
            "Epoch 1/10\n",
            "8/8 [==============================] - 1s 87ms/step - loss: 2.2287 - accuracy: 0.2437 - val_loss: 1.4547 - val_accuracy: 0.2500\n",
            "Epoch 2/10\n",
            "8/8 [==============================] - 0s 11ms/step - loss: 2.2187 - accuracy: 0.2558 - val_loss: 1.4481 - val_accuracy: 0.2500\n",
            "Epoch 3/10\n",
            "8/8 [==============================] - 0s 8ms/step - loss: 2.2185 - accuracy: 0.2506 - val_loss: 1.4421 - val_accuracy: 0.2500\n",
            "Epoch 4/10\n",
            "8/8 [==============================] - 0s 11ms/step - loss: 2.2013 - accuracy: 0.2535 - val_loss: 1.4364 - val_accuracy: 0.2500\n",
            "Epoch 5/10\n",
            "8/8 [==============================] - 0s 9ms/step - loss: 2.2103 - accuracy: 0.2482 - val_loss: 1.4310 - val_accuracy: 0.2500\n",
            "Epoch 6/10\n",
            "8/8 [==============================] - 0s 9ms/step - loss: 2.1994 - accuracy: 0.2466 - val_loss: 1.4260 - val_accuracy: 0.2500\n",
            "Epoch 7/10\n",
            "8/8 [==============================] - 0s 10ms/step - loss: 2.2058 - accuracy: 0.2441 - val_loss: 1.4208 - val_accuracy: 0.2500\n",
            "Epoch 8/10\n",
            "8/8 [==============================] - 0s 8ms/step - loss: 2.1814 - accuracy: 0.2512 - val_loss: 1.4153 - val_accuracy: 0.2500\n",
            "Epoch 9/10\n",
            "8/8 [==============================] - 0s 8ms/step - loss: 2.2032 - accuracy: 0.2516 - val_loss: 1.4097 - val_accuracy: 0.2500\n",
            "Epoch 10/10\n",
            "8/8 [==============================] - 0s 10ms/step - loss: 2.1865 - accuracy: 0.2489 - val_loss: 1.4036 - val_accuracy: 0.2500\n"
          ]
        },
        {
          "name": "stderr",
          "output_type": "stream",
          "text": [
            "/tmp/ipykernel_48979/2383121875.py:10: RuntimeWarning: invalid value encountered in double_scalars\n",
            "  precision = 1.0 * true_positives / np.sum(classPrediction)\n",
            "/tmp/ipykernel_48979/2383121875.py:12: RuntimeWarning: divide by zero encountered in double_scalars\n",
            "  f1score = 2 /((1/precision)+(1/recall))\n",
            "/home/cimil-01/.local/lib/python3.8/site-packages/sklearn/metrics/_classification.py:1327: UndefinedMetricWarning: Precision and F-score are ill-defined and being set to 0.0 in labels with no predicted samples. Use `zero_division` parameter to control this behavior.\n",
            "  _warn_prf(average, modifier, msg_start, len(result))\n",
            "/home/cimil-01/.local/lib/python3.8/site-packages/sklearn/metrics/_classification.py:1327: UndefinedMetricWarning: Precision and F-score are ill-defined and being set to 0.0 in labels with no predicted samples. Use `zero_division` parameter to control this behavior.\n",
            "  _warn_prf(average, modifier, msg_start, len(result))\n",
            "/home/cimil-01/.local/lib/python3.8/site-packages/sklearn/metrics/_classification.py:1327: UndefinedMetricWarning: Precision and F-score are ill-defined and being set to 0.0 in labels with no predicted samples. Use `zero_division` parameter to control this behavior.\n",
            "  _warn_prf(average, modifier, msg_start, len(result))\n",
            "/home/cimil-01/.local/lib/python3.8/site-packages/sklearn/metrics/_classification.py:1327: UndefinedMetricWarning: Precision and F-score are ill-defined and being set to 0.0 in labels with no predicted samples. Use `zero_division` parameter to control this behavior.\n",
            "  _warn_prf(average, modifier, msg_start, len(result))\n",
            "/home/cimil-01/.local/lib/python3.8/site-packages/sklearn/metrics/_classification.py:1327: UndefinedMetricWarning: Precision and F-score are ill-defined and being set to 0.0 in labels with no predicted samples. Use `zero_division` parameter to control this behavior.\n",
            "  _warn_prf(average, modifier, msg_start, len(result))\n",
            "/home/cimil-01/.local/lib/python3.8/site-packages/sklearn/metrics/_classification.py:1327: UndefinedMetricWarning: Precision and F-score are ill-defined and being set to 0.0 in labels with no predicted samples. Use `zero_division` parameter to control this behavior.\n",
            "  _warn_prf(average, modifier, msg_start, len(result))\n"
          ]
        },
        {
          "name": "stdout",
          "output_type": "stream",
          "text": [
            "Test Accuracy: 0.25\n",
            "Test macro_weighted_avg f1-score: nan\n",
            "[[ 0 18  0  0]\n",
            " [ 0 18  0  0]\n",
            " [ 0 18  0  0]\n",
            " [ 0 18  0  0]]\n",
            "              precision    recall  f1-score   support\n",
            "\n",
            "        Kick     0.0000    0.0000    0.0000        18\n",
            "     Snare 1     0.2500    1.0000    0.4000        18\n",
            "         Tom     0.0000    0.0000    0.0000        18\n",
            "     Snare 2     0.0000    0.0000    0.0000        18\n",
            "\n",
            "    accuracy                         0.2500        72\n",
            "   macro avg     0.0625    0.2500    0.1000        72\n",
            "weighted avg     0.0625    0.2500    0.1000        72\n",
            "\n",
            "Selecting augmented data for fold 1 ...\n",
            "Found 5842 augmented samples for fold 1\n",
            "\n",
            "Fold [2/6]\n",
            "Selecting Split Data...\n",
            "Taking validation split from provided indexes\n",
            "sampling_strategy: {0: 374, 1: 330, 2: 381, 3: 420}\n",
            "Adding augmented data to training set...\n",
            "Length of training set before augmentation:  1505\n",
            "Length of training set after augmentation:  7347\n",
            "Created model: 'guitar_timbre_classifier_20221129-192411'\n",
            "Model compiled\n",
            "Epoch 1/10\n",
            "8/8 [==============================] - 1s 38ms/step - loss: 1.5828 - accuracy: 0.3468 - val_loss: 1.3632 - val_accuracy: 0.2826\n",
            "Epoch 2/10\n",
            "8/8 [==============================] - 0s 7ms/step - loss: 1.5743 - accuracy: 0.3551 - val_loss: 1.3670 - val_accuracy: 0.2174\n",
            "Epoch 3/10\n",
            "8/8 [==============================] - 0s 7ms/step - loss: 1.5747 - accuracy: 0.3520 - val_loss: 1.3712 - val_accuracy: 0.2174\n",
            "Epoch 4/10\n",
            "8/8 [==============================] - 0s 7ms/step - loss: 1.5739 - accuracy: 0.3450 - val_loss: 1.3758 - val_accuracy: 0.1957\n",
            "Epoch 5/10\n",
            "8/8 [==============================] - 0s 7ms/step - loss: 1.5566 - accuracy: 0.3576 - val_loss: 1.3804 - val_accuracy: 0.1957\n",
            "Epoch 6/10\n",
            "8/8 [==============================] - 0s 7ms/step - loss: 1.5633 - accuracy: 0.3498 - val_loss: 1.3851 - val_accuracy: 0.2174\n",
            "Epoch 7/10\n",
            "8/8 [==============================] - 0s 7ms/step - loss: 1.5595 - accuracy: 0.3583 - val_loss: 1.3904 - val_accuracy: 0.2174\n",
            "Epoch 8/10\n",
            "8/8 [==============================] - 0s 8ms/step - loss: 1.5652 - accuracy: 0.3547 - val_loss: 1.3954 - val_accuracy: 0.2391\n",
            "Epoch 9/10\n",
            "8/8 [==============================] - 0s 8ms/step - loss: 1.5542 - accuracy: 0.3550 - val_loss: 1.4001 - val_accuracy: 0.2174\n",
            "Epoch 10/10\n",
            "8/8 [==============================] - 0s 10ms/step - loss: 1.5474 - accuracy: 0.3594 - val_loss: 1.4047 - val_accuracy: 0.2174\n"
          ]
        },
        {
          "name": "stderr",
          "output_type": "stream",
          "text": [
            "/tmp/ipykernel_48979/2383121875.py:12: RuntimeWarning: divide by zero encountered in double_scalars\n",
            "  f1score = 2 /((1/precision)+(1/recall))\n",
            "/tmp/ipykernel_48979/2383121875.py:10: RuntimeWarning: invalid value encountered in double_scalars\n",
            "  precision = 1.0 * true_positives / np.sum(classPrediction)\n",
            "/home/cimil-01/.local/lib/python3.8/site-packages/sklearn/metrics/_classification.py:1327: UndefinedMetricWarning: Precision and F-score are ill-defined and being set to 0.0 in labels with no predicted samples. Use `zero_division` parameter to control this behavior.\n",
            "  _warn_prf(average, modifier, msg_start, len(result))\n",
            "/home/cimil-01/.local/lib/python3.8/site-packages/sklearn/metrics/_classification.py:1327: UndefinedMetricWarning: Precision and F-score are ill-defined and being set to 0.0 in labels with no predicted samples. Use `zero_division` parameter to control this behavior.\n",
            "  _warn_prf(average, modifier, msg_start, len(result))\n",
            "/home/cimil-01/.local/lib/python3.8/site-packages/sklearn/metrics/_classification.py:1327: UndefinedMetricWarning: Precision and F-score are ill-defined and being set to 0.0 in labels with no predicted samples. Use `zero_division` parameter to control this behavior.\n",
            "  _warn_prf(average, modifier, msg_start, len(result))\n",
            "/home/cimil-01/.local/lib/python3.8/site-packages/sklearn/metrics/_classification.py:1327: UndefinedMetricWarning: Precision and F-score are ill-defined and being set to 0.0 in labels with no predicted samples. Use `zero_division` parameter to control this behavior.\n",
            "  _warn_prf(average, modifier, msg_start, len(result))\n",
            "/home/cimil-01/.local/lib/python3.8/site-packages/sklearn/metrics/_classification.py:1327: UndefinedMetricWarning: Precision and F-score are ill-defined and being set to 0.0 in labels with no predicted samples. Use `zero_division` parameter to control this behavior.\n",
            "  _warn_prf(average, modifier, msg_start, len(result))\n",
            "/home/cimil-01/.local/lib/python3.8/site-packages/sklearn/metrics/_classification.py:1327: UndefinedMetricWarning: Precision and F-score are ill-defined and being set to 0.0 in labels with no predicted samples. Use `zero_division` parameter to control this behavior.\n",
            "  _warn_prf(average, modifier, msg_start, len(result))\n"
          ]
        },
        {
          "name": "stdout",
          "output_type": "stream",
          "text": [
            "Test Accuracy: 0.18840579710144928\n",
            "Test macro_weighted_avg f1-score: nan\n",
            "[[12  3  2  0]\n",
            " [ 5  1 12  0]\n",
            " [ 4 12  0  0]\n",
            " [18  0  0  0]]\n",
            "              precision    recall  f1-score   support\n",
            "\n",
            "        Kick     0.3077    0.7059    0.4286        17\n",
            "     Snare 1     0.0625    0.0556    0.0588        18\n",
            "         Tom     0.0000    0.0000    0.0000        16\n",
            "     Snare 2     0.0000    0.0000    0.0000        18\n",
            "\n",
            "    accuracy                         0.1884        69\n",
            "   macro avg     0.0925    0.1904    0.1218        69\n",
            "weighted avg     0.0921    0.1884    0.1209        69\n",
            "\n",
            "Selecting augmented data for fold 2 ...\n",
            "Found 5843 augmented samples for fold 2\n",
            "\n",
            "Fold [3/6]\n",
            "Selecting Split Data...\n",
            "Taking validation split from provided indexes\n",
            "sampling_strategy: {0: 383, 1: 330, 2: 378, 3: 420}\n",
            "Adding augmented data to training set...\n",
            "Length of training set before augmentation:  1511\n",
            "Length of training set after augmentation:  7354\n",
            "Created model: 'guitar_timbre_classifier_20221129-192413'\n",
            "Model compiled\n",
            "Epoch 1/10\n",
            "8/8 [==============================] - 1s 49ms/step - loss: 2.9960 - accuracy: 0.2133 - val_loss: 1.5954 - val_accuracy: 0.2727\n",
            "Epoch 2/10\n",
            "8/8 [==============================] - 0s 11ms/step - loss: 2.9912 - accuracy: 0.2154 - val_loss: 1.5883 - val_accuracy: 0.2727\n",
            "Epoch 3/10\n",
            "8/8 [==============================] - 0s 9ms/step - loss: 2.9820 - accuracy: 0.2161 - val_loss: 1.5822 - val_accuracy: 0.2727\n",
            "Epoch 4/10\n",
            "8/8 [==============================] - 0s 7ms/step - loss: 2.9844 - accuracy: 0.2102 - val_loss: 1.5772 - val_accuracy: 0.2727\n",
            "Epoch 5/10\n",
            "8/8 [==============================] - 0s 8ms/step - loss: 2.9886 - accuracy: 0.2087 - val_loss: 1.5733 - val_accuracy: 0.2727\n",
            "Epoch 6/10\n",
            "8/8 [==============================] - 0s 7ms/step - loss: 2.9705 - accuracy: 0.2106 - val_loss: 1.5713 - val_accuracy: 0.2727\n",
            "Epoch 7/10\n",
            "8/8 [==============================] - 0s 8ms/step - loss: 2.9727 - accuracy: 0.2096 - val_loss: 1.5713 - val_accuracy: 0.2727\n",
            "Epoch 8/10\n",
            "8/8 [==============================] - 0s 7ms/step - loss: 2.9765 - accuracy: 0.2117 - val_loss: 1.5722 - val_accuracy: 0.2727\n",
            "Epoch 9/10\n",
            "8/8 [==============================] - 0s 7ms/step - loss: 2.9582 - accuracy: 0.2163 - val_loss: 1.5719 - val_accuracy: 0.2727\n",
            "Epoch 10/10\n",
            "8/8 [==============================] - 0s 7ms/step - loss: 2.9843 - accuracy: 0.2121 - val_loss: 1.5716 - val_accuracy: 0.2727\n"
          ]
        },
        {
          "name": "stderr",
          "output_type": "stream",
          "text": [
            "/tmp/ipykernel_48979/2383121875.py:10: RuntimeWarning: invalid value encountered in double_scalars\n",
            "  precision = 1.0 * true_positives / np.sum(classPrediction)\n",
            "/tmp/ipykernel_48979/2383121875.py:12: RuntimeWarning: divide by zero encountered in double_scalars\n",
            "  f1score = 2 /((1/precision)+(1/recall))\n",
            "/home/cimil-01/.local/lib/python3.8/site-packages/sklearn/metrics/_classification.py:1327: UndefinedMetricWarning: Precision and F-score are ill-defined and being set to 0.0 in labels with no predicted samples. Use `zero_division` parameter to control this behavior.\n",
            "  _warn_prf(average, modifier, msg_start, len(result))\n",
            "/home/cimil-01/.local/lib/python3.8/site-packages/sklearn/metrics/_classification.py:1327: UndefinedMetricWarning: Precision and F-score are ill-defined and being set to 0.0 in labels with no predicted samples. Use `zero_division` parameter to control this behavior.\n",
            "  _warn_prf(average, modifier, msg_start, len(result))\n",
            "/home/cimil-01/.local/lib/python3.8/site-packages/sklearn/metrics/_classification.py:1327: UndefinedMetricWarning: Precision and F-score are ill-defined and being set to 0.0 in labels with no predicted samples. Use `zero_division` parameter to control this behavior.\n",
            "  _warn_prf(average, modifier, msg_start, len(result))\n",
            "/home/cimil-01/.local/lib/python3.8/site-packages/sklearn/metrics/_classification.py:1327: UndefinedMetricWarning: Precision and F-score are ill-defined and being set to 0.0 in labels with no predicted samples. Use `zero_division` parameter to control this behavior.\n",
            "  _warn_prf(average, modifier, msg_start, len(result))\n",
            "/home/cimil-01/.local/lib/python3.8/site-packages/sklearn/metrics/_classification.py:1327: UndefinedMetricWarning: Precision and F-score are ill-defined and being set to 0.0 in labels with no predicted samples. Use `zero_division` parameter to control this behavior.\n",
            "  _warn_prf(average, modifier, msg_start, len(result))\n",
            "/home/cimil-01/.local/lib/python3.8/site-packages/sklearn/metrics/_classification.py:1327: UndefinedMetricWarning: Precision and F-score are ill-defined and being set to 0.0 in labels with no predicted samples. Use `zero_division` parameter to control this behavior.\n",
            "  _warn_prf(average, modifier, msg_start, len(result))\n"
          ]
        },
        {
          "name": "stdout",
          "output_type": "stream",
          "text": [
            "Test Accuracy: 0.26153846153846155\n",
            "Test macro_weighted_avg f1-score: nan\n",
            "[[ 0 12  0  0]\n",
            " [ 0 17  0  0]\n",
            " [ 0 18  0  0]\n",
            " [ 0 18  0  0]]\n",
            "              precision    recall  f1-score   support\n",
            "\n",
            "        Kick     0.0000    0.0000    0.0000        12\n",
            "     Snare 1     0.2615    1.0000    0.4146        17\n",
            "         Tom     0.0000    0.0000    0.0000        18\n",
            "     Snare 2     0.0000    0.0000    0.0000        18\n",
            "\n",
            "    accuracy                         0.2615        65\n",
            "   macro avg     0.0654    0.2500    0.1037        65\n",
            "weighted avg     0.0684    0.2615    0.1084        65\n",
            "\n",
            "Selecting augmented data for fold 3 ...\n",
            "Found 5809 augmented samples for fold 3\n",
            "\n",
            "Fold [4/6]\n",
            "Selecting Split Data...\n",
            "Taking validation split from provided indexes\n",
            "sampling_strategy: {0: 373, 1: 329, 2: 379, 3: 420}\n",
            "Adding augmented data to training set...\n",
            "Length of training set before augmentation:  1501\n",
            "Length of training set after augmentation:  7310\n",
            "Created model: 'guitar_timbre_classifier_20221129-192415'\n",
            "Model compiled\n",
            "Epoch 1/10\n",
            "8/8 [==============================] - 1s 30ms/step - loss: 2.5563 - accuracy: 0.1163 - val_loss: 1.4641 - val_accuracy: 0.2292\n",
            "Epoch 2/10\n",
            "8/8 [==============================] - 0s 13ms/step - loss: 2.5487 - accuracy: 0.1145 - val_loss: 1.4649 - val_accuracy: 0.2083\n",
            "Epoch 3/10\n",
            "8/8 [==============================] - 0s 12ms/step - loss: 2.5427 - accuracy: 0.1206 - val_loss: 1.4664 - val_accuracy: 0.2083\n",
            "Epoch 4/10\n",
            "8/8 [==============================] - 0s 8ms/step - loss: 2.5328 - accuracy: 0.1170 - val_loss: 1.4687 - val_accuracy: 0.1875\n",
            "Epoch 5/10\n",
            "8/8 [==============================] - 0s 8ms/step - loss: 2.5549 - accuracy: 0.1187 - val_loss: 1.4716 - val_accuracy: 0.1458\n",
            "Epoch 6/10\n",
            "8/8 [==============================] - 0s 8ms/step - loss: 2.5655 - accuracy: 0.1165 - val_loss: 1.4751 - val_accuracy: 0.1042\n",
            "Epoch 7/10\n",
            "8/8 [==============================] - 0s 9ms/step - loss: 2.5572 - accuracy: 0.1110 - val_loss: 1.4794 - val_accuracy: 0.0625\n",
            "Epoch 8/10\n",
            "8/8 [==============================] - 0s 8ms/step - loss: 2.5569 - accuracy: 0.1171 - val_loss: 1.4844 - val_accuracy: 0.0625\n",
            "Epoch 9/10\n",
            "8/8 [==============================] - 0s 11ms/step - loss: 2.5360 - accuracy: 0.1185 - val_loss: 1.4900 - val_accuracy: 0.0625\n",
            "Epoch 10/10\n",
            "8/8 [==============================] - 0s 8ms/step - loss: 2.5352 - accuracy: 0.1131 - val_loss: 1.4966 - val_accuracy: 0.0625\n"
          ]
        },
        {
          "name": "stderr",
          "output_type": "stream",
          "text": [
            "/tmp/ipykernel_48979/2383121875.py:12: RuntimeWarning: divide by zero encountered in double_scalars\n",
            "  f1score = 2 /((1/precision)+(1/recall))\n",
            "/tmp/ipykernel_48979/2383121875.py:10: RuntimeWarning: invalid value encountered in double_scalars\n",
            "  precision = 1.0 * true_positives / np.sum(classPrediction)\n",
            "/home/cimil-01/.local/lib/python3.8/site-packages/sklearn/metrics/_classification.py:1327: UndefinedMetricWarning: Precision and F-score are ill-defined and being set to 0.0 in labels with no predicted samples. Use `zero_division` parameter to control this behavior.\n",
            "  _warn_prf(average, modifier, msg_start, len(result))\n",
            "/home/cimil-01/.local/lib/python3.8/site-packages/sklearn/metrics/_classification.py:1327: UndefinedMetricWarning: Precision and F-score are ill-defined and being set to 0.0 in labels with no predicted samples. Use `zero_division` parameter to control this behavior.\n",
            "  _warn_prf(average, modifier, msg_start, len(result))\n",
            "/home/cimil-01/.local/lib/python3.8/site-packages/sklearn/metrics/_classification.py:1327: UndefinedMetricWarning: Precision and F-score are ill-defined and being set to 0.0 in labels with no predicted samples. Use `zero_division` parameter to control this behavior.\n",
            "  _warn_prf(average, modifier, msg_start, len(result))\n",
            "/home/cimil-01/.local/lib/python3.8/site-packages/sklearn/metrics/_classification.py:1327: UndefinedMetricWarning: Precision and F-score are ill-defined and being set to 0.0 in labels with no predicted samples. Use `zero_division` parameter to control this behavior.\n",
            "  _warn_prf(average, modifier, msg_start, len(result))\n",
            "/home/cimil-01/.local/lib/python3.8/site-packages/sklearn/metrics/_classification.py:1327: UndefinedMetricWarning: Precision and F-score are ill-defined and being set to 0.0 in labels with no predicted samples. Use `zero_division` parameter to control this behavior.\n",
            "  _warn_prf(average, modifier, msg_start, len(result))\n",
            "/home/cimil-01/.local/lib/python3.8/site-packages/sklearn/metrics/_classification.py:1327: UndefinedMetricWarning: Precision and F-score are ill-defined and being set to 0.0 in labels with no predicted samples. Use `zero_division` parameter to control this behavior.\n",
            "  _warn_prf(average, modifier, msg_start, len(result))\n"
          ]
        },
        {
          "name": "stdout",
          "output_type": "stream",
          "text": [
            "Test Accuracy: 0.028169014084507043\n",
            "Test macro_weighted_avg f1-score: nan\n",
            "[[ 0 18  0  0]\n",
            " [ 6  2 10  0]\n",
            " [ 0 17  0  0]\n",
            " [ 6  4  8  0]]\n",
            "              precision    recall  f1-score   support\n",
            "\n",
            "        Kick     0.0000    0.0000    0.0000        18\n",
            "     Snare 1     0.0488    0.1111    0.0678        18\n",
            "         Tom     0.0000    0.0000    0.0000        17\n",
            "     Snare 2     0.0000    0.0000    0.0000        18\n",
            "\n",
            "    accuracy                         0.0282        71\n",
            "   macro avg     0.0122    0.0278    0.0169        71\n",
            "weighted avg     0.0124    0.0282    0.0172        71\n",
            "\n",
            "Selecting augmented data for fold 4 ...\n",
            "Found 5811 augmented samples for fold 4\n",
            "\n",
            "Fold [5/6]\n",
            "Selecting Split Data...\n",
            "Taking validation split from provided indexes\n",
            "sampling_strategy: {0: 376, 1: 329, 2: 378, 3: 420}\n",
            "Adding augmented data to training set...\n",
            "Length of training set before augmentation:  1503\n",
            "Length of training set after augmentation:  7314\n",
            "Created model: 'guitar_timbre_classifier_20221129-192416'\n",
            "Model compiled\n",
            "Epoch 1/10\n",
            "8/8 [==============================] - 1s 31ms/step - loss: 1.8238 - accuracy: 0.1262 - val_loss: 1.3953 - val_accuracy: 0.1489\n",
            "Epoch 2/10\n",
            "8/8 [==============================] - 0s 7ms/step - loss: 1.8305 - accuracy: 0.1215 - val_loss: 1.3960 - val_accuracy: 0.1915\n",
            "Epoch 3/10\n",
            "8/8 [==============================] - 0s 8ms/step - loss: 1.8325 - accuracy: 0.1243 - val_loss: 1.3982 - val_accuracy: 0.2340\n",
            "Epoch 4/10\n",
            "8/8 [==============================] - 0s 7ms/step - loss: 1.8272 - accuracy: 0.1248 - val_loss: 1.4006 - val_accuracy: 0.2340\n",
            "Epoch 5/10\n",
            "8/8 [==============================] - 0s 9ms/step - loss: 1.8243 - accuracy: 0.1269 - val_loss: 1.4031 - val_accuracy: 0.2340\n",
            "Epoch 6/10\n",
            "8/8 [==============================] - 0s 10ms/step - loss: 1.8168 - accuracy: 0.1269 - val_loss: 1.4053 - val_accuracy: 0.2340\n",
            "Epoch 7/10\n",
            "8/8 [==============================] - 0s 8ms/step - loss: 1.8311 - accuracy: 0.1284 - val_loss: 1.4075 - val_accuracy: 0.2553\n",
            "Epoch 8/10\n",
            "8/8 [==============================] - 0s 10ms/step - loss: 1.8229 - accuracy: 0.1259 - val_loss: 1.4097 - val_accuracy: 0.2979\n",
            "Epoch 9/10\n",
            "8/8 [==============================] - 0s 7ms/step - loss: 1.8203 - accuracy: 0.1272 - val_loss: 1.4118 - val_accuracy: 0.3404\n",
            "Epoch 10/10\n",
            "8/8 [==============================] - 0s 10ms/step - loss: 1.8203 - accuracy: 0.1303 - val_loss: 1.4140 - val_accuracy: 0.3617\n"
          ]
        },
        {
          "name": "stderr",
          "output_type": "stream",
          "text": [
            "/tmp/ipykernel_48979/2383121875.py:12: RuntimeWarning: divide by zero encountered in double_scalars\n",
            "  f1score = 2 /((1/precision)+(1/recall))\n"
          ]
        },
        {
          "name": "stdout",
          "output_type": "stream",
          "text": [
            "Test Accuracy: 0.4\n",
            "Test macro_weighted_avg f1-score: 0.3982154475322986\n",
            "[[ 7  1  8  0]\n",
            " [ 6 12  0  0]\n",
            " [ 0 18  0  0]\n",
            " [ 0  4  5  9]]\n",
            "              precision    recall  f1-score   support\n",
            "\n",
            "        Kick     0.5385    0.4375    0.4828        16\n",
            "     Snare 1     0.3429    0.6667    0.4528        18\n",
            "         Tom     0.0000    0.0000    0.0000        18\n",
            "     Snare 2     1.0000    0.5000    0.6667        18\n",
            "\n",
            "    accuracy                         0.4000        70\n",
            "   macro avg     0.4703    0.4010    0.4006        70\n",
            "weighted avg     0.4684    0.4000    0.3982        70\n",
            "\n",
            "Selecting augmented data for fold 5 ...\n",
            "Found 2279 augmented samples for fold 5\n",
            "\n",
            "Fold [6/6]\n",
            "Selecting Split Data...\n",
            "Taking validation split from provided indexes\n",
            "sampling_strategy: {0: 136, 1: 148, 2: 146, 3: 150}\n",
            "Adding augmented data to training set...\n",
            "Length of training set before augmentation:  580\n",
            "Length of training set after augmentation:  2859\n",
            "Created model: 'guitar_timbre_classifier_20221129-192418'\n",
            "Model compiled\n",
            "Epoch 1/10\n",
            "3/3 [==============================] - 1s 151ms/step - loss: 2.3714 - accuracy: 0.1064 - val_loss: 1.6778 - val_accuracy: 0.0000e+00\n",
            "Epoch 2/10\n",
            "3/3 [==============================] - 0s 41ms/step - loss: 2.3703 - accuracy: 0.1091 - val_loss: 1.6770 - val_accuracy: 0.0000e+00\n",
            "Epoch 3/10\n",
            "3/3 [==============================] - 0s 29ms/step - loss: 2.3734 - accuracy: 0.1089 - val_loss: 1.6763 - val_accuracy: 0.0000e+00\n",
            "Epoch 4/10\n",
            "3/3 [==============================] - 0s 34ms/step - loss: 2.3782 - accuracy: 0.1081 - val_loss: 1.6755 - val_accuracy: 0.0000e+00\n",
            "Epoch 5/10\n",
            "3/3 [==============================] - 0s 25ms/step - loss: 2.3685 - accuracy: 0.1030 - val_loss: 1.6747 - val_accuracy: 0.0000e+00\n",
            "Epoch 6/10\n",
            "3/3 [==============================] - 0s 25ms/step - loss: 2.3603 - accuracy: 0.1152 - val_loss: 1.6739 - val_accuracy: 0.0000e+00\n",
            "Epoch 7/10\n",
            "3/3 [==============================] - 0s 29ms/step - loss: 2.3946 - accuracy: 0.1062 - val_loss: 1.6731 - val_accuracy: 0.0000e+00\n",
            "Epoch 8/10\n",
            "3/3 [==============================] - 0s 30ms/step - loss: 2.3908 - accuracy: 0.1120 - val_loss: 1.6721 - val_accuracy: 0.0000e+00\n",
            "Epoch 9/10\n",
            "3/3 [==============================] - 0s 37ms/step - loss: 2.3728 - accuracy: 0.0992 - val_loss: 1.6708 - val_accuracy: 0.0000e+00\n",
            "Epoch 10/10\n",
            "3/3 [==============================] - 0s 27ms/step - loss: 2.3741 - accuracy: 0.1100 - val_loss: 1.6693 - val_accuracy: 0.0000e+00\n"
          ]
        },
        {
          "name": "stderr",
          "output_type": "stream",
          "text": [
            "/tmp/ipykernel_48979/2383121875.py:12: RuntimeWarning: divide by zero encountered in double_scalars\n",
            "  f1score = 2 /((1/precision)+(1/recall))\n"
          ]
        },
        {
          "name": "stdout",
          "output_type": "stream",
          "text": [
            "Test Accuracy: 0.0\n",
            "Test macro_weighted_avg f1-score: 0.0\n",
            "[[  0 160   0   0]\n",
            " [  1   0   0 126]\n",
            " [136   5   0  16]\n",
            " [ 17 162   1   0]]\n",
            "              precision    recall  f1-score   support\n",
            "\n",
            "        Kick     0.0000    0.0000    0.0000     160.0\n",
            "     Snare 1     0.0000    0.0000    0.0000     127.0\n",
            "         Tom     0.0000    0.0000    0.0000     157.0\n",
            "     Snare 2     0.0000    0.0000    0.0000     180.0\n",
            "\n",
            "    accuracy                         0.0000     624.0\n",
            "   macro avg     0.0000    0.0000    0.0000     624.0\n",
            "weighted avg     0.0000    0.0000    0.0000     624.0\n",
            "\n"
          ]
        },
        {
          "data": {
            "image/png": "[encoded data removed]",
            "text/plain": [
              "<Figure size 360x216 with 1 Axes>"
            ]
          },
          "metadata": {
            "needs_background": "light"
          },
          "output_type": "display_data"
        },
        {
          "data": {
            "image/png": "[encoded data removed]",
            "text/plain": [
              "<Figure size 360x216 with 1 Axes>"
            ]
          },
          "metadata": {
            "needs_background": "light"
          },
          "output_type": "display_data"
        },
        {
          "data": {
            "image/png": "[encoded data removed]",
            "text/plain": [
              "<Figure size 360x216 with 1 Axes>"
            ]
          },
          "metadata": {
            "needs_background": "light"
          },
          "output_type": "display_data"
        },
        {
          "data": {
            "image/png": "[encoded data removed]",
            "text/plain": [
              "<Figure size 360x216 with 1 Axes>"
            ]
          },
          "metadata": {
            "needs_background": "light"
          },
          "output_type": "display_data"
        },
        {
          "data": {
            "image/png": "[encoded data removed]",
            "text/plain": [
              "<Figure size 360x216 with 1 Axes>"
            ]
          },
          "metadata": {
            "needs_background": "light"
          },
          "output_type": "display_data"
        },
        {
          "data": {
            "image/png": "[encoded data removed]",
            "text/plain": [
              "<Figure size 360x216 with 1 Axes>"
            ]
          },
          "metadata": {
            "needs_background": "light"
          },
          "output_type": "display_data"
        }
      ],
      "source": [
        "'''Call the main routine for each fold'''\n",
        "result_model = []\n",
        "train_aug_indexes = {}\n",
        "\n",
        "with tf.device('/gpu:0'):\n",
        "    metric_names = ['accuracy','f1_weightedmacroavg','confusion_matrix','classification_report','printable_classification_report']\n",
        "    evaluation_metrics, quantized_model_evaluation_metrics = {k:[] for k in metric_names}, {k:[] for k in metric_names}\n",
        "    \n",
        "    X,y = dataset_features.to_numpy(), dataset_labels.to_numpy()\n",
        "\n",
        "    if USE_CROSS_VALIDATION:\n",
        "        for foldidx,split_folds in enumerate(cv.split(X, y)): \n",
        "            if CUSTOM_PLAYER_K_FOLD:\n",
        "                train_idx, test_idx, val_idx  = split_folds\n",
        "            else:\n",
        "                train_idx, test_idx = split_folds\n",
        "                val_idx = None\n",
        "\n",
        "            train_aug_idx = []  # Indexes of the augmented data that correspond to the current training split\n",
        "            if USE_AUGMENTED_DATA: # Here we want to select the augmented data that corresponds to the current training split\n",
        "                print('Selecting augmented data for fold',foldidx,'...')\n",
        "                training_metadata = metadata.iloc[train_idx]\n",
        "                training_sources_and_times = {tuple(k):True for k in training_metadata[['meta_audiofilePath','meta_onsetGroundTruthLabelTime']].values}\n",
        "                \n",
        "                for idx,source_aug,time_aug in  metadata_aug[['meta_augmentation_source','meta_onsetGroundTruthLabelTime']].itertuples():\n",
        "                    if((source_aug,time_aug) in training_sources_and_times.keys()):\n",
        "                        train_aug_idx.append(idx)\n",
        "                assert len(train_aug_idx) > 0, \"No augmented data found for the current training split\"\n",
        "                print('Found',len(train_aug_idx),'augmented samples for fold',foldidx)\n",
        "            train_aug_indexes[foldidx] = train_aug_idx\n",
        "\n",
        "            result_model.append(main_routine(X, y,\n",
        "                                             train_idx = train_idx,\n",
        "                                             test_idx  = test_idx,\n",
        "                                             val_idx   = val_idx,\n",
        "                                             aug_data = None if not USE_AUGMENTED_DATA else (metadata_aug, features_aug, labels_aug, train_aug_idx),\n",
        "                                             foldcount = foldidx+1,\n",
        "                                             is_k_fold = USE_CROSS_VALIDATION,\n",
        "                                             eval_metrics           = evaluation_metrics,\n",
        "                                             quantized_eval_metrics = quantized_model_evaluation_metrics))        \n",
        "    else:\n",
        "        result_model = main_routine(X, y,\n",
        "                                    eval_metrics           = evaluation_metrics,\n",
        "                                    quantized_eval_metrics = quantized_model_evaluation_metrics,\n",
        "                                    _val_split_size        = val_split_size)"
      ]
    },
    {
      "cell_type": "markdown",
      "metadata": {
        "id": "uLTufCRmlpIW"
      },
      "source": [
        "# Cross Validation average results"
      ]
    },
    {
      "cell_type": "markdown",
      "metadata": {
        "id": "uOqw9k1wlWZC"
      },
      "source": [
        "## Utilities for reports and metrics"
      ]
    },
    {
      "cell_type": "code",
      "execution_count": 57,
      "metadata": {
        "id": "LvpD2bFcYcCi"
      },
      "outputs": [],
      "source": [
        "def report_average(reports):\n",
        "    mean_dict = dict()\n",
        "    for label in reports[0].keys():\n",
        "        dictionary = dict()\n",
        "\n",
        "        if label in 'accuracy':\n",
        "            mean_dict[label] = sum(d[label] for d in reports) / len(reports)\n",
        "            continue\n",
        "\n",
        "        for key in reports[0][label].keys():\n",
        "            dictionary[key] = sum(d[label][key] for d in reports) / len(reports)\n",
        "        mean_dict[label] = dictionary\n",
        "\n",
        "    return mean_dict\n",
        "\n",
        "def classification_report_dict2print(report):\n",
        "    ret = \"\"\n",
        "    classes = list(report.keys())[0:-3]\n",
        "    summary_metrics = list(report.keys())[-3:]\n",
        "    longest_1st_column_name = max([len(key) for key in report.keys()])\n",
        "    ret = ' ' * longest_1st_column_name\n",
        "    ret += '  precision    recall  f1-score   support\\n\\n'\n",
        "\n",
        "    METRIC_DECIMAL_DIGITS = 4\n",
        "    metric_digits = METRIC_DECIMAL_DIGITS + 2 # add 0 and dot\n",
        "\n",
        "    header_spacing = 1\n",
        "    metrics = list(report[classes[0]].keys())\n",
        "    longest_1st_row_name = max([len(key) for key in report[classes[0]].keys()]) + header_spacing\n",
        "\n",
        "    for classname in classes:\n",
        "        ret += (' '*(longest_1st_column_name-len(classname))) + classname + ' '\n",
        "        for metric in metrics:\n",
        "            if metric != \"support\":\n",
        "                ret += (' '*(longest_1st_row_name-metric_digits))\n",
        "                ret += \"%.4f\" % round(report[classname][metric],METRIC_DECIMAL_DIGITS)\n",
        "            else:\n",
        "                current_support_digits = len(str(int(report[classname][metric])))\n",
        "                ret += (' '*(longest_1st_row_name-current_support_digits))\n",
        "                ret += \"%d\" % round(report[classname][metric],0)\n",
        "        ret += '\\n'\n",
        "    ret += '\\n'\n",
        "\n",
        "    # Accuracy\n",
        "    ret += (' '*(longest_1st_column_name-len(summary_metrics[0]))) + summary_metrics[0] + ' '\n",
        "    ret += 2* (' '*longest_1st_row_name)\n",
        "    ret += (' '*(longest_1st_row_name-metric_digits))\n",
        "    ret += \"%.4f\" % round(report[\"accuracy\"],METRIC_DECIMAL_DIGITS)\n",
        "    current_support_digits = len(str(int(report[summary_metrics[-1]]['support'])))\n",
        "    ret += (' '*(longest_1st_row_name-current_support_digits))\n",
        "    ret += \"%d\" % round(report[summary_metrics[-1]]['support'],0)\n",
        "    ret += '\\n'\n",
        "  \n",
        "  \n",
        "    for classname in summary_metrics[1:]:\n",
        "        ret += (' '*(longest_1st_column_name-len(classname))) + classname + ' '\n",
        "        for metric in metrics:\n",
        "            if metric != \"support\":\n",
        "                ret += (' '*(longest_1st_row_name-metric_digits))\n",
        "                ret += \"%.4f\" % round(report[classname][metric],METRIC_DECIMAL_DIGITS)\n",
        "            else:\n",
        "                current_support_digits = len(str(int(report[classname][metric])))\n",
        "                ret += (' '*(longest_1st_row_name-current_support_digits))\n",
        "                ret += \"%d\" % round(report[classname][metric],0)\n",
        "        ret += '\\n'\n",
        "    ret += '\\n'\n",
        "\n",
        "    return ret"
      ]
    },
    {
      "cell_type": "markdown",
      "metadata": {
        "id": "6Vw1nmcpmApM"
      },
      "source": [
        "## Compute average"
      ]
    },
    {
      "cell_type": "code",
      "execution_count": 58,
      "metadata": {
        "id": "S-xQAAnQu6BO"
      },
      "outputs": [],
      "source": [
        "if USE_CROSS_VALIDATION:\n",
        "    assert len(evaluation_metrics['accuracy']) == K_SPLITS, \"The number of accuracy values does not match the number of folds ({} != {})\".format(len(evaluation_metrics['accuracy']),K_SPLITS)\n",
        "    \n",
        "    printable_avg_report = classification_report_dict2print(report_average(evaluation_metrics[\"classification_report\"]))\n",
        "    qm_printable_avg_report = \"Not performed\"\n",
        "    if TEST_QUANTIZATION:\n",
        "        qm_printable_avg_report = classification_report_dict2print(report_average(quantized_model_evaluation_metrics[\"classification_report\"]))\n",
        "    metrics_to_save = {\"avg_classification_report\" : printable_avg_report, \"avg_classification_report_for_quantized_model\" : qm_printable_avg_report}\n",
        "else:\n",
        "    assert len(evaluation_metrics['accuracy']) == 1\n",
        "    metrics_to_save = {}\n",
        "    for metric in evaluation_metrics.keys():\n",
        "        metrics_to_save[metric] = evaluation_metrics[metric][0]\n",
        "    for metric in quantized_model_evaluation_metrics.keys():\n",
        "        metrics_to_save['quantizedmod_'+str(metric)] = quantized_model_evaluation_metrics[metric][0]\n"
      ]
    },
    {
      "cell_type": "markdown",
      "metadata": {
        "id": "_sYtK9DZu64h"
      },
      "source": [
        "# Save Model Info"
      ]
    },
    {
      "cell_type": "code",
      "execution_count": 59,
      "metadata": {
        "id": "JNDoHM4gXw5x"
      },
      "outputs": [],
      "source": [
        "if SAVE_MODEL_INFO:\n",
        "    current_dir = MODELFOLDER + \"/\" + RUN_NAME\n",
        "    # %mkdir -p \"$current_dir\"\n",
        "    os.makedirs(current_dir,exist_ok = True)\n",
        "\n",
        "    save_model_info(result_model[0] if type(result_model) == list else result_model,\n",
        "                    optimizer,\n",
        "                    USE_CROSS_VALIDATION,K_SPLITS,\n",
        "                    metrics_to_save,\n",
        "                    current_dir)\n",
        "else:\n",
        "    print(\"RESULTS\\n\\n\" + metrics_to_save)"
      ]
    },
    {
      "cell_type": "markdown",
      "metadata": {
        "id": "Gl7ZdTjKVcE3"
      },
      "source": [
        "# Train final model on the entire dataset"
      ]
    },
    {
      "cell_type": "code",
      "execution_count": 60,
      "metadata": {
        "id": "RT6_bSsfVbiH"
      },
      "outputs": [
        {
          "name": "stdout",
          "output_type": "stream",
          "text": [
            "Created model: 'guitar_timbre_classifier_20221129-192422'\n",
            "Model compiled\n",
            "Epoch 1/10\n",
            "2/2 [==============================] - 0s 46ms/step - loss: 1.6527 - accuracy: 0.1805\n",
            "Epoch 2/10\n",
            "2/2 [==============================] - 0s 3ms/step - loss: 1.6358 - accuracy: 0.1845\n",
            "Epoch 3/10\n",
            "2/2 [==============================] - 0s 3ms/step - loss: 1.6515 - accuracy: 0.1827\n",
            "Epoch 4/10\n",
            "2/2 [==============================] - 0s 5ms/step - loss: 1.6480 - accuracy: 0.1698\n",
            "Epoch 5/10\n",
            "2/2 [==============================] - 0s 4ms/step - loss: 1.6522 - accuracy: 0.1889\n",
            "Epoch 6/10\n",
            "2/2 [==============================] - 0s 3ms/step - loss: 1.6472 - accuracy: 0.1884\n",
            "Epoch 7/10\n",
            "2/2 [==============================] - 0s 3ms/step - loss: 1.6416 - accuracy: 0.1867\n",
            "Epoch 8/10\n",
            "2/2 [==============================] - 0s 3ms/step - loss: 1.6437 - accuracy: 0.1762\n",
            "Epoch 9/10\n",
            "2/2 [==============================] - 0s 5ms/step - loss: 1.6488 - accuracy: 0.1775\n",
            "Epoch 10/10\n",
            "2/2 [==============================] - 0s 5ms/step - loss: 1.6357 - accuracy: 0.1965\n"
          ]
        },
        {
          "data": {
            "text/plain": [
              "<tensorflow.python.keras.callbacks.History at 0x7fac758366a0>"
            ]
          },
          "execution_count": 60,
          "metadata": {},
          "output_type": "execute_result"
        }
      ],
      "source": [
        "use_early_stopping = False\n",
        "\n",
        "### DEFINE MODEL\n",
        "final_model = define_model_architecture(len(CLASSES),_verbose = True)\n",
        "loss_fn = get_loss()\n",
        "\n",
        "### PREPARE DATA IN CASE OF A FIRST CONV LAYER IN THE NET\n",
        "if type(final_model.layers[0]) == tf.keras.layers.Conv1D:\n",
        "    X_all = np.expand_dims(X,axis = 2) # Adapt data for Conv1d ([batch_shape, steps, input_dim] -> in our case indim = 1, steps = features, batchshape = train datset size)\n",
        "else:\n",
        "    X_all = X\n",
        "\n",
        "### COMPILE MODEL\n",
        "compile_model(final_model,optimizer,loss_fn,_verbose = True)\n",
        "\n",
        "### SETUP TENSORBOARD\n",
        "tensorboard_callback = start_tensorboard(tb_dir,None)\n",
        "callbacks=[tensorboard_callback,]\n",
        "\n",
        "### SETUP EARLY STOPPING (only if not in K-fold mode)\n",
        "if use_early_stopping:\n",
        "    callbacks.append(tf.keras.callbacks.EarlyStopping(monitor='val_accuracy', mode='min', verbose=1, patience=200))\n",
        "\n",
        "# * FIT MODEL *\n",
        "final_model.fit(X_all, y, epochs=args['epochs'],\n",
        "                callbacks=callbacks,\n",
        "                batch_size=args['batchsize'])"
      ]
    },
    {
      "cell_type": "code",
      "execution_count": 61,
      "metadata": {
        "id": "LXJ9wBMbb4sp"
      },
      "outputs": [
        {
          "name": "stdout",
          "output_type": "stream",
          "text": [
            "INFO:tensorflow:Assets written to: ./output/CrossValidatedRun_20221129-192400/finalModel/assets\n"
          ]
        }
      ],
      "source": [
        "final_model_dir = MODELFOLDER + \"/\" + RUN_NAME + \"/finalModel\"\n",
        "# %mkdir -p \"$final_model_dir\"\n",
        "os.makedirs(final_model_dir,exist_ok = True)\n",
        "\n",
        "final_model.save(final_model_dir)\n",
        "\n",
        "# Convert and save lite model (Non quantized)\n",
        "convert2tflite(final_model_dir,model_name='final_model',quantization=None)\n",
        "# Convert and save lite model (Dynamically quantized)\n",
        "convert2tflite(final_model_dir,model_name='final_model_dynquant',quantization=\"dynamic\")"
      ]
    },
    {
      "cell_type": "markdown",
      "metadata": {
        "id": "4pBrSDphxyxL"
      },
      "source": [
        "# Save the model for TF Lite\n",
        "## *(Only if not a Cross Validated run)*"
      ]
    },
    {
      "cell_type": "code",
      "execution_count": 62,
      "metadata": {
        "id": "k3ScdRpC-m_J"
      },
      "outputs": [],
      "source": [
        "# if USE_CROSS_VALIDATION is False:\n",
        "#     model_path = MODELFOLDER + \"/\" + RUN_NAME\n",
        "#     convert2tflite(model_path)                                                # standard TFLITE model\n",
        "#     convert2tflite(model_path,model_name=\"model_partially_quantized\",quantization=\"dynamic\")   # Partial quantization  https://www.tensorflow.org/lite/performance/post_training_quantization#dynamic_range_quantization\n",
        "    \n",
        "#     quantization_dataset = X\n",
        "#     if type(result_model.layers[0]) == tf.keras.layers.Conv1D:\n",
        "#         quantization_dataset = np.expand_dims(X,axis = 2) # Adapt data for Conv1d\n",
        "    \n",
        "#     convert2tflite(model_path,model_name=\"model_float_fallback\",quantization=\"float-fallback\",dataset=quantization_dataset) # https://www.tensorflow.org/lite/performance/post_training_integer_quant#convert_using_float_fallback_quantization\n",
        "#     convert2tflite(model_path,model_name=\"model_fully_quantized\",quantization=\"full\",dataset=quantization_dataset)          # FULL uint8 quantization https://www.tensorflow.org/lite/performance/post_training_quantization#full_integer_quantization"
      ]
    },
    {
      "cell_type": "code",
      "execution_count": 63,
      "metadata": {
        "id": "dnPqZ8k4box0"
      },
      "outputs": [],
      "source": [
        "# first_layer_is_conv = (type(result_model.layers[0]) == tf.keras.layers.Conv1D)"
      ]
    },
    {
      "cell_type": "code",
      "execution_count": 64,
      "metadata": {
        "id": "3QdCLmkgzonI"
      },
      "outputs": [],
      "source": [
        "# TEST_SAVED_MODEL = None\n",
        "# # TEST_SAVED_MODEL = 'model.tflite'\n",
        "# # TEST_SAVED_MODEL = 'model_partially_quantized.tflite'\n",
        "# # TEST_SAVED_MODEL = 'model_float_fallback.tflite'\n",
        "# # TEST_SAVED_MODEL = 'model_fully_quantized.tflite'\n",
        "# # TEST_SAVED_MODEL = 'quant_aware_model.tflite'\n",
        "# # TEST_SAVED_MODEL = 'saved_model.pb'\n",
        "# verbose_test = False\n",
        "\n",
        "# def test_generic_model(model_filename,model_path,X_test,Y_test,first_layer_is_conv,verbose_test = False):\n",
        "#     if model_filename.split('.')[-1] == 'tflite':\n",
        "#         y_pred = test_tflite_model(model_path+'/'+model_filename,X_test,y_test,first_layer_is_conv,verbose_test = verbose_test)\n",
        "#         correct = np.count_nonzero((np.array(y_pred) == np.ravel(y_test)).astype(int))\n",
        "#         total = np.shape(y_test)[0]\n",
        "#         accuracy = round(correct/total,4)\n",
        "#     elif model_filename.split('.')[-1] == 'pb':\n",
        "#         accuracy = test_regulartf_model(model_path,X_test,y_test,first_layer_is_conv,verbose_test = verbose_test)\n",
        "#     else:\n",
        "#         raise ValueError(\"\")\n",
        "\n",
        "#     return accuracy\n",
        "\n",
        "# if USE_CROSS_VALIDATION is False and TEST_SAVED_MODEL is not None:\n",
        "#     assert np.max([len(ev_metric) for ev_metric in evaluation_metrics]) == K_SPLITS\n",
        "\n",
        "#     target_accuracy = evaluation_metrics['accuracy'][0]\n",
        "#     accuracy = test_generic_model(TEST_SAVED_MODEL,model_path,X_test,Y_test,first_layer_is_conv)\n",
        "\n",
        "#     epsilon = 1e-4\n",
        "#     EQUAL_ACCURACY = abs(target_accuracy - accuracy) < epsilon\n",
        "\n",
        "#     print(\"accuracy: \" + str(accuracy))\n",
        "\n",
        "#     if EQUAL_ACCURACY:\n",
        "#         print(\"Accuracy of the original model and the saved TF model correspond(on same test set)\")\n",
        "#     else:\n",
        "#         raise ValueError('Accuracy does not match target (Target: '+str(target_accuracy)+' but got '+str(accuracy)+' instead)')\n",
        "# else:\n",
        "#     print(\"TF model testing is disabled\")"
      ]
    },
    {
      "cell_type": "markdown",
      "metadata": {
        "id": "ERYDqiDVXUqX"
      },
      "source": [
        "# Quantization aware fine-tuning"
      ]
    },
    {
      "cell_type": "code",
      "execution_count": 65,
      "metadata": {
        "id": "n2QJCdx9HOfW"
      },
      "outputs": [],
      "source": [
        "# #################################################\n",
        "# PERFORM_QUANZATION_AWARE_TRAINING = False       #\n",
        "# #################################################\n",
        "# if PERFORM_QUANZATION_AWARE_TRAINING:\n",
        "#     pip_install('tensorflow_model_optimization')"
      ]
    },
    {
      "cell_type": "code",
      "execution_count": 66,
      "metadata": {
        "id": "E5W8KuwyXTsX"
      },
      "outputs": [],
      "source": [
        "# if PERFORM_QUANZATION_AWARE_TRAINING:\n",
        "#     imported_model = tf.keras.models.load_model(model_path)\n",
        "\n",
        "#     import tensorflow_model_optimization as tfmot\n",
        "\n",
        "#     quantize_model = tfmot.quantization.keras.quantize_model\n",
        "\n",
        "#     # q_aware stands for for quantization aware.\n",
        "#     q_aware_model = None\n",
        "#     q_aware_model = quantize_model(imported_model)\n",
        "\n",
        "#     # `quantize_model` requires a recompile.\n",
        "#     _,loss_fn = define_model_architecture(len(CLASSES),_verbose = True)  # Get only the loss function\n",
        "#     compile_model(q_aware_model,optimizer,loss_fn,_verbose = True)  # Recompile the quantization aware model\n",
        "\n",
        "#     q_aware_model.summary()"
      ]
    },
    {
      "cell_type": "code",
      "execution_count": 67,
      "metadata": {
        "id": "_Pb9pAqTA0h5"
      },
      "outputs": [],
      "source": [
        "# if PERFORM_QUANZATION_AWARE_TRAINING:\n",
        "#     tb_dir = \"logs2/fit/\"\n",
        "#     %tensorboard --logdir $tb_dir"
      ]
    },
    {
      "cell_type": "code",
      "execution_count": 68,
      "metadata": {
        "id": "WQPy1nbXtWto"
      },
      "outputs": [],
      "source": [
        "# if PERFORM_QUANZATION_AWARE_TRAINING:\n",
        "#     finetuning_epochs = 50\n",
        "#     tensorboard_callback = start_tensorboard(tb_dir,None)\n",
        "\n",
        "#     q_history = q_aware_model.fit(X_train, y_train, epochs=finetuning_epochs, validation_data = (X_valid,y_valid),\n",
        "#                                 callbacks=[tensorboard_callback],\n",
        "#                                 batch_size=args['batchsize'])"
      ]
    },
    {
      "cell_type": "code",
      "execution_count": 69,
      "metadata": {
        "id": "jIbbjlPRx1bx"
      },
      "outputs": [],
      "source": [
        "# if PERFORM_QUANZATION_AWARE_TRAINING:\n",
        "#     quant_model_path = MODELFOLDER + \"/\" + RUN_NAME + \"/quant_aware_model.tflite\"\n",
        "\n",
        "#     converter = tf.lite.TFLiteConverter.from_keras_model(q_aware_model)\n",
        "#     converter.optimizations = [tf.lite.Optimize.DEFAULT]\n",
        "\n",
        "#     quantized_tflite_model = converter.convert()\n",
        "\n",
        "#     with tf.io.gfile.GFile(quant_model_path, 'wb') as f:\n",
        "#         f.write(quantized_tflite_model)"
      ]
    },
    {
      "cell_type": "markdown",
      "metadata": {
        "id": "ynglS4cE6uFi"
      },
      "source": [
        "# Rename all output folders by prefixing the accuracy value"
      ]
    },
    {
      "cell_type": "code",
      "execution_count": 70,
      "metadata": {
        "id": "gIB4EF5l6uFi"
      },
      "outputs": [],
      "source": [
        "# from glob import glob\n",
        "# import re\n",
        "\n",
        "# for dirpattern, newprefix in [('SingleRun*','acc'),('CrossValidated*','c_acc')]:\n",
        "#     for resdir in glob(os.path.join(MODELFOLDER,dirpattern)):\n",
        "#         filesindir = glob(os.path.join(resdir,'*'))\n",
        "#         if len(filesindir) == 0:\n",
        "#             os.rename(resdir,os.path.join(MODELFOLDER,'todelete',os.path.basename(resdir)))\n",
        "#         else:\n",
        "#             if os.path.exists(os.path.join(resdir,'info.txt')):\n",
        "#                 with open(os.path.join(resdir,'info.txt')) as infof:\n",
        "#                     acclines = []\n",
        "#                     for e in infof.readlines():\n",
        "#                         acclines += re.findall('accuracy[ ]+0\\.\\d+',e)\n",
        "#                     assert len(acclines) > 0\n",
        "#                     accstr = re.findall('0\\.\\d+',acclines[0])\n",
        "#                     assert len(accstr) == 1\n",
        "#                     newfoldername = os.path.join(os.path.dirname(resdir),newprefix+accstr[0]+'_'+os.path.basename(resdir))\n",
        "#                     os.rename(resdir,newfoldername)"
      ]
    },
    {
      "cell_type": "markdown",
      "metadata": {
        "id": "TVw_zjlf6uFi"
      },
      "source": [
        "## Rename current output folder by prefixing the accuracy value"
      ]
    },
    {
      "cell_type": "code",
      "execution_count": 71,
      "metadata": {
        "id": "rzJLnKEZ6uFi"
      },
      "outputs": [],
      "source": [
        "run_dir = os.path.join(MODELFOLDER,RUN_NAME)\n",
        "assert os.path.exists(run_dir)\n",
        "\n",
        "if os.path.exists(os.path.join(run_dir,'info.txt')):\n",
        "    with open(os.path.join(run_dir,'info.txt')) as infof:\n",
        "        acclines = []\n",
        "        for e in infof.readlines():\n",
        "            acclines += re.findall('accuracy[ ]+0\\.\\d+',e)\n",
        "        assert len(acclines) > 0\n",
        "        accstr = re.findall('0\\.\\d+',acclines[0])\n",
        "        assert len(accstr) == 1\n",
        "        if 'CrossValidated' in os.path.basename(run_dir):\n",
        "            newprefix = 'c_acc'\n",
        "        elif 'SingleRun' in os.path.basename(run_dir):\n",
        "            newprefix = 'acc'\n",
        "        else:\n",
        "            raise Exception('Bad folder name '+str(os.path.basename(run_dir)))\n",
        "\n",
        "        newprefix = classification_task.value[1] + '_' + newprefix\n",
        "            \n",
        "        newfoldername = os.path.join(os.path.dirname(run_dir),newprefix+accstr[0]+'_'+os.path.basename(run_dir))\n",
        "        # print('Renaming \"'+run_dir+'\" to \"'+newfoldername+'\"')\n",
        "        os.rename(run_dir,newfoldername)\n",
        "        run_dir = newfoldername\n",
        "else:\n",
        "    errfoldername = os.path.join(os.path.dirname(run_dir),'ERR_'+os.path.basename(run_dir))\n",
        "    os.rename(run_dir,errfoldername)\n",
        "    run_dir = errfoldername"
      ]
    },
    {
      "cell_type": "markdown",
      "metadata": {
        "id": "kAgndl_b6uFi"
      },
      "source": [
        "## Testing with extra test data\n",
        "This data was extracted from extra recordings, made to test the system in a real life scenario.  \n",
        "Here we test only to veryfy that everything is working here, before making a shift to the real life test"
      ]
    },
    {
      "cell_type": "code",
      "execution_count": 72,
      "metadata": {
        "id": "9t0N81FrWSST"
      },
      "outputs": [
        {
          "name": "stdout",
          "output_type": "stream",
          "text": [
            "total 32\n",
            "drwxrwxr-x 3 cimil-01 cimil-01 4096 nov 28 15:03 .\n",
            "drwxrwxr-x 3 cimil-01 cimil-01 4096 nov 28 15:01 ..\n",
            "lrwxrwxrwx 1 cimil-01 cimil-01  118 ott 11 11:12 20220929_115154_onlycorrectdetections.pickle -> /home/cimil-01/Develop/expressive_guitar_techniques_dataset/data/features/20220929_115154_onlycorrectdetections.pickle\n",
            "lrwxrwxrwx 1 cimil-01 cimil-01  123 ott 11 11:12 20221011_110715_test_onlycorrectdetections.pickle -> /home/cimil-01/Develop/expressive_guitar_techniques_dataset/data/features/20221011_110715_test_onlycorrectdetections.pickle\n",
            "drwxrwxr-x 2 cimil-01 cimil-01 4096 nov 28 13:28 augmented_data\n",
            "-rw-rw-r-- 1 cimil-01 cimil-01 8451 ott 10 19:38 relief_cache.pickle\n"
          ]
        }
      ],
      "source": [
        "THEPATH = os.path.join(DATAFOLDER)\n",
        "!ls -la \"$THEPATH\""
      ]
    },
    {
      "cell_type": "code",
      "execution_count": 73,
      "metadata": {
        "id": "sdhiK3rD6uFj"
      },
      "outputs": [
        {
          "name": "stdout",
          "output_type": "stream",
          "text": [
            "Loading test data from pickle...\n",
            "Done.\n"
          ]
        }
      ],
      "source": [
        "\"\"\" Load the test data \"\"\"\n",
        "\n",
        "TEST_DATA_FILE_PATH = os.path.join(DATAFOLDER,'20221011_110715_test_onlycorrectdetections.pickle')\n",
        "print(\"Loading test data from pickle...\")\n",
        "with open(TEST_DATA_FILE_PATH,'rb') as pf:\n",
        "    testdataset = pickle.load(pf)\n",
        "testdataset.sort_values(['meta_expressive_technique_id','meta_audiofilePath'],inplace = True)\n",
        "print('Done.')\n",
        "# If this fails, the dataset has changed from the last time the program was run successfully (CHECK THE DATA!!!)\n",
        "assert testdataset.shape == (754,507)\n",
        "# display(testdataset)\n",
        "\n",
        "\n",
        "\"\"\" Drop unused features (like the train/test dataset) \"\"\"\n",
        "\n",
        "drop_unused_features(testdataset,inplace=True)\n",
        "assert testdataset.shape == (754,504)\n",
        "\n",
        "\n",
        "\"\"\" Divide the test data into metadata, features and labels (like the train/test dataset) \"\"\"\n",
        "\n",
        "test_metadata, test_features, test_labels = divide_dataset(testdataset)\n",
        "assert test_metadata.shape[0] == test_features.shape[0] == test_labels.shape[0] == 754\n",
        "assert test_metadata.shape[1] == 9\n",
        "assert test_features.shape[1] == 495\n",
        "\n",
        "\"\"\" Filter the dataset according to the task \"\"\"\n",
        "# This might mean removing samples or renaming classes\n",
        "test_features,test_labels,test_metadata = filter_dataset(test_features.copy(),test_labels.copy(),test_metadata.copy(),classification_task)\n",
        "\n",
        "\n",
        "\n",
        "\"\"\" Apply the feature selection computed for the train/test set (like the train/test dataset) \"\"\"\n",
        "\n",
        "test_features = test_features.copy().loc[:,selected_features]\n",
        "\n",
        "if len(selected_features) != AUTO_FEATURE_NUMBER:\n",
        "    raise Exception('The number of selected_features ('+str(len(selected_features))+') is not the same as AUTO_FEATURE_NUMBER ('+str(AUTO_FEATURE_NUMBER)+'). Check the code.')\n",
        "\n",
        "if test_features.shape[1] != AUTO_FEATURE_NUMBER:\n",
        "    raise Exception('The number of features in the test dataset ('+str(test_features.shape[1])+') is different from the number of features in the train/test dataset ('+str(AUTO_FEATURE_NUMBER)+')')"
      ]
    },
    {
      "cell_type": "code",
      "execution_count": 74,
      "metadata": {
        "id": "XskezstrklRC"
      },
      "outputs": [
        {
          "name": "stderr",
          "output_type": "stream",
          "text": [
            "/tmp/ipykernel_48979/2383121875.py:12: RuntimeWarning: divide by zero encountered in double_scalars\n",
            "  f1score = 2 /((1/precision)+(1/recall))\n",
            "/tmp/ipykernel_48979/2383121875.py:10: RuntimeWarning: invalid value encountered in double_scalars\n",
            "  precision = 1.0 * true_positives / np.sum(classPrediction)\n",
            "/home/cimil-01/.local/lib/python3.8/site-packages/sklearn/metrics/_classification.py:1327: UndefinedMetricWarning: Precision and F-score are ill-defined and being set to 0.0 in labels with no predicted samples. Use `zero_division` parameter to control this behavior.\n",
            "  _warn_prf(average, modifier, msg_start, len(result))\n",
            "/home/cimil-01/.local/lib/python3.8/site-packages/sklearn/metrics/_classification.py:1327: UndefinedMetricWarning: Precision and F-score are ill-defined and being set to 0.0 in labels with no predicted samples. Use `zero_division` parameter to control this behavior.\n",
            "  _warn_prf(average, modifier, msg_start, len(result))\n",
            "/home/cimil-01/.local/lib/python3.8/site-packages/sklearn/metrics/_classification.py:1327: UndefinedMetricWarning: Precision and F-score are ill-defined and being set to 0.0 in labels with no predicted samples. Use `zero_division` parameter to control this behavior.\n",
            "  _warn_prf(average, modifier, msg_start, len(result))\n",
            "/home/cimil-01/.local/lib/python3.8/site-packages/sklearn/metrics/_classification.py:1327: UndefinedMetricWarning: Precision and F-score are ill-defined and being set to 0.0 in labels with no predicted samples. Use `zero_division` parameter to control this behavior.\n",
            "  _warn_prf(average, modifier, msg_start, len(result))\n",
            "/home/cimil-01/.local/lib/python3.8/site-packages/sklearn/metrics/_classification.py:1327: UndefinedMetricWarning: Precision and F-score are ill-defined and being set to 0.0 in labels with no predicted samples. Use `zero_division` parameter to control this behavior.\n",
            "  _warn_prf(average, modifier, msg_start, len(result))\n",
            "/home/cimil-01/.local/lib/python3.8/site-packages/sklearn/metrics/_classification.py:1327: UndefinedMetricWarning: Precision and F-score are ill-defined and being set to 0.0 in labels with no predicted samples. Use `zero_division` parameter to control this behavior.\n",
            "  _warn_prf(average, modifier, msg_start, len(result))\n"
          ]
        }
      ],
      "source": [
        "extra_test_x = test_features.to_numpy()\n",
        "extra_test_y = test_labels.to_numpy()\n",
        "\n",
        "y_true = np.squeeze(extra_test_y)\n",
        "y_pred = np.argmax(final_model(extra_test_x),axis=1)\n",
        "cm_acc, f1mw, cm_conf_matrix, cm_classf_report, cm_printable_classf_report = compute_metrics(y_true, y_pred, _verbose=False)\n",
        "\n",
        "with open(os.path.join(run_dir,'info.txt'),'a') as infof:\n",
        "    infof.write('______________________________________________________________________________________________________________________________________________________\\n\\n\\n')\n",
        "    infof.write('+----------------------------------------------------------------+\\n')\n",
        "    infof.write('| Results obtained on extra test recordings with the FINAL MODEL |\\n')\n",
        "    infof.write('+----------------------------------------------------------------+\\n\\n')\n",
        "    infof.write('Extra-test-Accuracy: '+str(cm_acc)+'\\n\\n')\n",
        "    infof.write('Extra-test-F1 Score (weighted average): '+str(f1mw)+'\\n\\n')\n",
        "    infof.write('Extra-test-ConfusionMatrix: \\n'+str(cm_conf_matrix)+'\\n\\n')\n",
        "    infof.write('Extra-test-Report: \\n'+str(cm_printable_classf_report)+'\\n\\n')"
      ]
    },
    {
      "cell_type": "code",
      "execution_count": 75,
      "metadata": {
        "id": "Jp5iv_0pklRC"
      },
      "outputs": [
        {
          "name": "stdout",
          "output_type": "stream",
          "text": [
            "*--* Training successfully completed. *--*\n",
            "Data at ./output/perc_c_acc0.1880_CrossValidatedRun_20221129-192400\n"
          ]
        }
      ],
      "source": [
        "print('*--* Training successfully completed. *--*')\n",
        "print(\"Data at\",run_dir)"
      ]
    }
  ],
  "metadata": {
    "accelerator": "GPU",
    "colab": {
      "collapsed_sections": [
        "uLTufCRmlpIW",
        "4pBrSDphxyxL"
      ],
      "provenance": []
    },
    "kernelspec": {
      "display_name": "Python 3.8.12 ('tf-CLONE')",
      "language": "python",
      "name": "python3"
    },
    "language_info": {
      "codemirror_mode": {
        "name": "ipython",
        "version": 3
      },
      "file_extension": ".py",
      "mimetype": "text/x-python",
      "name": "python",
      "nbconvert_exporter": "python",
      "pygments_lexer": "ipython3",
      "version": "3.8.12"
    },
    "vscode": {
      "interpreter": {
        "hash": "959cb910f4c92fed33bcbb2d615fe10bd0473a33e22a9b4e00ebf3acf1e03643"
      }
    }
  },
  "nbformat": 4,
  "nbformat_minor": 0
}
